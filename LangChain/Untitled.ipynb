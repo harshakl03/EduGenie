{
 "cells": [
  {
   "cell_type": "code",
   "execution_count": 2,
   "id": "04f5d445-5ad2-4745-9852-641ce5ec6257",
   "metadata": {},
   "outputs": [
    {
     "name": "stderr",
     "output_type": "stream",
     "text": [
      "D:\\Projects\\EduGenie\\Model\\LangChain\\EduGenie.env\\lib\\site-packages\\tqdm\\auto.py:21: TqdmWarning: IProgress not found. Please update jupyter and ipywidgets. See https://ipywidgets.readthedocs.io/en/stable/user_install.html\n",
      "  from .autonotebook import tqdm as notebook_tqdm\n"
     ]
    }
   ],
   "source": [
    "import numpy as np\n",
    "import pandas as pd\n",
    "import matplotlib.pyplot as plt\n",
    "import langchain\n",
    "import langchain_google_genai"
   ]
  },
  {
   "cell_type": "code",
   "execution_count": 3,
   "id": "a878bbde-99ea-4077-b2bf-3ba2fabe156e",
   "metadata": {},
   "outputs": [],
   "source": [
    "import fitz "
   ]
  },
  {
   "cell_type": "code",
   "execution_count": 8,
   "id": "ebb8cc4e-49f0-45d7-b162-f1f6feaef4ba",
   "metadata": {},
   "outputs": [
    {
     "name": "stdout",
     "output_type": "stream",
     "text": [
      "Enter file path: ./Data/3rd sem.pdf\n"
     ]
    },
    {
     "name": "stdout",
     "output_type": "stream",
     "text": [
      "                 VTU PROVISIONAL RESULTS OF UG / PG December-2023/January-2024 EXAMINATION.                    \n",
      "USN\n",
      "1BI22CD015\n",
      "Student Name\n",
      "HARSHA K L\n",
      "                Semester : 3               \n",
      "Subject Code\n",
      "Subject Title\n",
      "Internal Marks\n",
      "External Marks\n",
      "Total Marks\n",
      "Subject Result\n",
      "BCS301\n",
      "MATHEMATICS FOR COMPUTER\n",
      "SCIENCE\n",
      "50\n",
      "45\n",
      "95\n",
      "P\n",
      "BCS302\n",
      "DIGITAL DESIGN & COMPUTER\n",
      "ORGANIZATION\n",
      "50\n",
      "43\n",
      "93\n",
      "P\n",
      "BCS303\n",
      "OPERATING SYSTEMS\n",
      "50\n",
      "30\n",
      "80\n",
      "P\n",
      "BCS304\n",
      "DATA STRUCTURES AND\n",
      "APPLICATIONS\n",
      "50\n",
      "32\n",
      "82\n",
      "P\n",
      "BCSL305\n",
      "DATA STRUCTURES LAB\n",
      "50\n",
      "50\n",
      "100\n",
      "P\n",
      "BSCK307\n",
      "SOCIAL CONNECT AND\n",
      "RESPONSIBILITY\n",
      "100\n",
      "0\n",
      "100\n",
      "P\n",
      "BPEK359\n",
      "PHYSICAL EDUCATION\n",
      "95\n",
      "0\n",
      "95\n",
      "P\n",
      "BCS358A\n",
      "DATA ANALYTICS WITH EXCEL\n",
      "50\n",
      "50\n",
      "100\n",
      "P\n",
      "BCS306A\n",
      "OBJECT ORIENTED\n",
      "PROGRAMMING WITH JAVA\n",
      "50\n",
      "34\n",
      "84\n",
      "P\n",
      "Nomenclature / Abbreviations\n",
      "P -> PASS\n",
      "F -> FAIL\n",
      "A -> ABSENT\n",
      "W -> WITHHELD\n",
      "X, NE -> NOT ELIGIBLE\n",
      "Note :\n",
      "1) Results of some subjects of some students are not appearing due to reasons such as,\n",
      "  a) CIE not Available\n",
      "  b) SEE not available\n",
      "  because of technical reasons etc, however they will be updated shortly.\n",
      "2) Withheld results to be announced later.\n",
      "                                                                                                                                                                         Sd/-\n",
      "                                                                                                                                               REGISTRAR (EVALUATION)\n",
      "Result Sheet ID:VTU6633c7011c21BI22CD015\n",
      "2024-05-02 22:38:32\n",
      "webportal: https://results.vtu.ac.in \n",
      "\n"
     ]
    }
   ],
   "source": [
    "def extract_text_from_pdf(pdf_path):\n",
    "    doc = fitz.open(pdf_path)\n",
    "    text = \"\"\n",
    "    for page in doc:\n",
    "        text += page.get_text()\n",
    "    return text\n",
    "\n",
    "# Example usage\n",
    "pdf_path = input(\"Enter file path:\")\n",
    "extracted_text = extract_text_from_pdf(pdf_path)\n",
    "print(extracted_text)"
   ]
  },
  {
   "cell_type": "code",
   "execution_count": 9,
   "id": "23042288-1368-4a9c-bf0d-a580628cd03e",
   "metadata": {},
   "outputs": [
    {
     "name": "stdout",
     "output_type": "stream",
     "text": [
      "True\n"
     ]
    }
   ],
   "source": [
    "#Check student name\n",
    "\n",
    "print(\"1BI22CD015\" in extracted_text)"
   ]
  },
  {
   "cell_type": "code",
   "execution_count": 11,
   "id": "241afe3f-07a9-4b24-a1dd-347a9e4b8021",
   "metadata": {},
   "outputs": [
    {
     "name": "stdout",
     "output_type": "stream",
     "text": [
      "Semester: 3\n"
     ]
    }
   ],
   "source": [
    "import re\n",
    "\n",
    "match = re.search(r\"Semester\\s*:\\s*(\\d+)\", extracted_text)\n",
    "if match:\n",
    "    semester = match.group(1)\n",
    "    print(\"Semester:\", semester)"
   ]
  },
  {
   "cell_type": "code",
   "execution_count": 5,
   "id": "9694d58d-e5a0-4790-9208-556a8a686557",
   "metadata": {},
   "outputs": [
    {
     "name": "stdout",
     "output_type": "stream",
     "text": [
      "[{'subject_code': 'BMATS101', 'subject_name': 'MATHEMATICS FOR CSE STREAM-I', 'internal': 48, 'external': 50, 'total': 98, 'result': 'P'}, {'subject_code': 'BPHYS102', 'subject_name': 'PHYSICS FOR CSE STREAM', 'internal': 50, 'external': 50, 'total': 100, 'result': 'P'}, {'subject_code': 'BPOPS103', 'subject_name': 'PRINCIPLES OF PROGRAMMING USING C', 'internal': 50, 'external': 39, 'total': 89, 'result': 'P'}, {'subject_code': 'BENGK106', 'subject_name': 'COMMUNICATIVE ENGLISH', 'internal': 45, 'external': 37, 'total': 82, 'result': 'P'}, {'subject_code': 'BICOK107', 'subject_name': 'INDIAN CONSTITUTION', 'internal': 41, 'external': 27, 'total': 68, 'result': 'P'}, {'subject_code': 'BIDTK158', 'subject_name': 'INNOVATION AND DESIGN THINKING', 'internal': 48, 'external': 28, 'total': 76, 'result': 'P'}, {'subject_code': 'BESCK104B', 'subject_name': 'INTRODUCTION TO ELECTRICAL ENGINEERING', 'internal': 50, 'external': 43, 'total': 93, 'result': 'P'}, {'subject_code': 'BETCK105H', 'subject_name': 'INTRODUCTION TO INTERNET OF THINGS (IOT)', 'internal': 49, 'external': 41, 'total': 90, 'result': 'P'}]\n"
     ]
    }
   ],
   "source": [
    "import re\n",
    "\n",
    "def extract_result_data(text):\n",
    "    # This regex handles both single-line and multi-line subject name formats\n",
    "    pattern = re.compile(\n",
    "        r'(?P<code>B\\w{2,10})\\n'                                      # Subject code\n",
    "        r'(?P<name>(?:[A-Z][^\\n]*\\n?)+?)'                              # Subject name (1 or more lines)\n",
    "        r'(?P<internal>\\d{1,3})\\n'                                     # Internal marks\n",
    "        r'(?P<external>\\d{1,3})\\n'                                     # External marks\n",
    "        r'(?P<total>\\d{1,3})\\n'                                        # Total\n",
    "        r'(?P<result>[PFWAX])',                                       # Result\n",
    "        re.MULTILINE\n",
    "    )\n",
    "\n",
    "    results = []\n",
    "    for match in pattern.finditer(text):\n",
    "        subject_data = {\n",
    "            'subject_code': match.group('code').strip(),\n",
    "            'subject_name': match.group('name').replace('\\n', ' ').strip(),\n",
    "            'internal': int(match.group('internal')),\n",
    "            'external': int(match.group('external')),\n",
    "            'total': int(match.group('total')),\n",
    "            'result': match.group('result')\n",
    "        }\n",
    "        results.append(subject_data)\n",
    "\n",
    "    return results\n",
    "\n",
    "extracted_data = extract_result_data(extracted_text)\n",
    "print(extracted_data)"
   ]
  },
  {
   "cell_type": "code",
   "execution_count": 6,
   "id": "2c193002-4b3c-435a-97d4-2b5917845303",
   "metadata": {},
   "outputs": [
    {
     "data": {
      "text/plain": [
       "8"
      ]
     },
     "execution_count": 6,
     "metadata": {},
     "output_type": "execute_result"
    }
   ],
   "source": [
    "len(extracted_data)"
   ]
  },
  {
   "cell_type": "code",
   "execution_count": 7,
   "id": "4213b1d6-fcb1-4e2f-9ce8-e45839098005",
   "metadata": {},
   "outputs": [],
   "source": [
    "def extract_data_from_pdf(pdf_path):\n",
    "    result = extract_text_from_pdf(pdf_path)\n",
    "    result = extract_result_data(result)\n",
    "    return result"
   ]
  },
  {
   "cell_type": "code",
   "execution_count": 8,
   "id": "7aa84135-d134-4d2d-b112-2c83640e4f24",
   "metadata": {},
   "outputs": [],
   "source": [
    "import os\n",
    "\n",
    "student_data = {\"name\":\"Harsha K L\", \"overall_results\" : []}\n",
    "folder_path = r\".\\Data\"\n",
    "i = 1\n",
    "for filename in os.listdir(folder_path):\n",
    "    if filename.endswith(\".pdf\"):\n",
    "        file_path = os.path.join(folder_path, filename)\n",
    "        student_data[\"overall_results\"].append({\"sem\":i, \"results\":extract_data_from_pdf(file_path)})\n",
    "        i+=1"
   ]
  },
  {
   "cell_type": "code",
   "execution_count": 9,
   "id": "32fbb863-5a17-4081-a13d-6c7a5fee74f2",
   "metadata": {},
   "outputs": [
    {
     "name": "stdout",
     "output_type": "stream",
     "text": [
      "Sem: 1 : 8\n",
      "Sem: 2 : 8\n",
      "Sem: 3 : 9\n",
      "Sem: 4 : 9\n",
      "Sem: 5 : 9\n"
     ]
    }
   ],
   "source": [
    "for sem in student_data[\"overall_results\"]:\n",
    "    print(f\"Sem: {sem['sem']} : {len(sem['results'])}\")"
   ]
  },
  {
   "cell_type": "markdown",
   "id": "bb251270-5792-4a15-a595-410016a8afdf",
   "metadata": {},
   "source": [
    "## -> go to persistent chatbot"
   ]
  },
  {
   "cell_type": "code",
   "execution_count": 33,
   "id": "9a2ba7b1-55c4-4f9d-92b8-48df61b5c63c",
   "metadata": {},
   "outputs": [
    {
     "name": "stdout",
     "output_type": "stream",
     "text": [
      "Prompt Template Ready\n"
     ]
    }
   ],
   "source": [
    "prompt_template = \"\"\"\n",
    "You are an academic advisor assistant. Your task is to analyze a student's final year exam results and attendance and generate a personalized academic feedback. The feedback should highlight:\n",
    "\n",
    "1. Overall academic performance (based on total marks in subjects).\n",
    "2. Subject-wise observations (strengths, weaknesses).\n",
    "3. Remarks on attendance (if it is below 75%, point it out).\n",
    "4. Motivation and improvement suggestions.\n",
    "\n",
    "Format the feedback in simple, encouraging, and constructive language suitable for an engineering student.\n",
    "\n",
    "Here is the student's data:\n",
    "{student_info}\n",
    "\n",
    "Generate the feedback in under 200 words.\n",
    "Use only the data provided, dont include external data\n",
    "\"\"\"\n",
    "\n",
    "print(\"Prompt Template Ready\")"
   ]
  },
  {
   "cell_type": "code",
   "execution_count": 15,
   "id": "24cc9037-22e7-4331-817e-0b574cad3aa3",
   "metadata": {},
   "outputs": [],
   "source": [
    "student_data = {\n",
    "    \"name\": \"Pavan D\",\n",
    "    \"sem\": \"5\",\n",
    "    \"attendance\": \"72%\",\n",
    "    \"result\": extracted_data\n",
    "}\n",
    "\n",
    "student_info = f\"{student_data['name']} is in semester {student_data['sem']}, attendance is {student_data['attendance']}, and their results are: {student_data['result']}.\""
   ]
  },
  {
   "cell_type": "markdown",
   "id": "6023bdfa-09b6-46f7-9d62-2a7dd59c9b49",
   "metadata": {},
   "source": [
    "## LANGCHAIN MODEL"
   ]
  },
  {
   "cell_type": "code",
   "execution_count": 1,
   "id": "53d47857-518d-457a-ba3e-3acd910db270",
   "metadata": {},
   "outputs": [],
   "source": [
    "import os\n",
    "from dotenv import load_dotenv\n",
    "\n",
    "load_dotenv()\n",
    "api_key = os.getenv(\"GEMINI_API_KEY\")"
   ]
  },
  {
   "cell_type": "code",
   "execution_count": 11,
   "id": "74ba3ff5-46f0-4142-a5f5-688efdd7811b",
   "metadata": {},
   "outputs": [],
   "source": [
    "import os\n",
    "os.environ[\"GOOGLE_API_KEY\"] = api_key"
   ]
  },
  {
   "cell_type": "code",
   "execution_count": 12,
   "id": "2b4ec29c-abb6-467a-be5e-89e162808d52",
   "metadata": {},
   "outputs": [],
   "source": [
    "import google.generativeai as genai\n",
    "genai.configure(api_key=api_key)"
   ]
  },
  {
   "cell_type": "code",
   "execution_count": 13,
   "id": "1ac725b1-89d4-45ca-817f-c7a90ab558ce",
   "metadata": {},
   "outputs": [
    {
     "name": "stdout",
     "output_type": "stream",
     "text": [
      "models/chat-bison-001 ['generateMessage', 'countMessageTokens']\n",
      "models/text-bison-001 ['generateText', 'countTextTokens', 'createTunedTextModel']\n",
      "models/embedding-gecko-001 ['embedText', 'countTextTokens']\n",
      "models/gemini-1.0-pro-vision-latest ['generateContent', 'countTokens']\n",
      "models/gemini-pro-vision ['generateContent', 'countTokens']\n",
      "models/gemini-1.5-pro-latest ['generateContent', 'countTokens']\n",
      "models/gemini-1.5-pro-001 ['generateContent', 'countTokens', 'createCachedContent']\n",
      "models/gemini-1.5-pro-002 ['generateContent', 'countTokens', 'createCachedContent']\n",
      "models/gemini-1.5-pro ['generateContent', 'countTokens']\n",
      "models/gemini-1.5-flash-latest ['generateContent', 'countTokens']\n",
      "models/gemini-1.5-flash-001 ['generateContent', 'countTokens', 'createCachedContent']\n",
      "models/gemini-1.5-flash-001-tuning ['generateContent', 'countTokens', 'createTunedModel']\n",
      "models/gemini-1.5-flash ['generateContent', 'countTokens']\n",
      "models/gemini-1.5-flash-002 ['generateContent', 'countTokens', 'createCachedContent']\n",
      "models/gemini-1.5-flash-8b ['createCachedContent', 'generateContent', 'countTokens']\n",
      "models/gemini-1.5-flash-8b-001 ['createCachedContent', 'generateContent', 'countTokens']\n",
      "models/gemini-1.5-flash-8b-latest ['createCachedContent', 'generateContent', 'countTokens']\n",
      "models/gemini-1.5-flash-8b-exp-0827 ['generateContent', 'countTokens']\n",
      "models/gemini-1.5-flash-8b-exp-0924 ['generateContent', 'countTokens']\n",
      "models/gemini-2.5-pro-exp-03-25 ['generateContent', 'countTokens', 'createCachedContent']\n",
      "models/gemini-2.5-pro-preview-03-25 ['generateContent', 'countTokens', 'createCachedContent']\n",
      "models/gemini-2.5-flash-preview-04-17 ['generateContent', 'countTokens', 'createCachedContent']\n",
      "models/gemini-2.0-flash-exp ['generateContent', 'countTokens', 'bidiGenerateContent']\n",
      "models/gemini-2.0-flash ['generateContent', 'countTokens', 'createCachedContent']\n",
      "models/gemini-2.0-flash-001 ['generateContent', 'countTokens', 'createCachedContent']\n",
      "models/gemini-2.0-flash-exp-image-generation ['generateContent', 'countTokens', 'bidiGenerateContent']\n",
      "models/gemini-2.0-flash-lite-001 ['generateContent', 'countTokens', 'createCachedContent']\n",
      "models/gemini-2.0-flash-lite ['generateContent', 'countTokens', 'createCachedContent']\n",
      "models/gemini-2.0-flash-lite-preview-02-05 ['generateContent', 'countTokens', 'createCachedContent']\n",
      "models/gemini-2.0-flash-lite-preview ['generateContent', 'countTokens', 'createCachedContent']\n",
      "models/gemini-2.0-pro-exp ['generateContent', 'countTokens', 'createCachedContent']\n",
      "models/gemini-2.0-pro-exp-02-05 ['generateContent', 'countTokens', 'createCachedContent']\n",
      "models/gemini-exp-1206 ['generateContent', 'countTokens', 'createCachedContent']\n",
      "models/gemini-2.0-flash-thinking-exp-01-21 ['generateContent', 'countTokens', 'createCachedContent']\n",
      "models/gemini-2.0-flash-thinking-exp ['generateContent', 'countTokens', 'createCachedContent']\n",
      "models/gemini-2.0-flash-thinking-exp-1219 ['generateContent', 'countTokens', 'createCachedContent']\n",
      "models/learnlm-1.5-pro-experimental ['generateContent', 'countTokens']\n",
      "models/learnlm-2.0-flash-experimental ['generateContent', 'countTokens']\n",
      "models/gemma-3-1b-it ['generateContent', 'countTokens']\n",
      "models/gemma-3-4b-it ['generateContent', 'countTokens']\n",
      "models/gemma-3-12b-it ['generateContent', 'countTokens']\n",
      "models/gemma-3-27b-it ['generateContent', 'countTokens']\n",
      "models/embedding-001 ['embedContent']\n",
      "models/text-embedding-004 ['embedContent']\n",
      "models/gemini-embedding-exp-03-07 ['embedContent', 'countTextTokens']\n",
      "models/gemini-embedding-exp ['embedContent', 'countTextTokens']\n",
      "models/aqa ['generateAnswer']\n",
      "models/imagen-3.0-generate-002 ['predict']\n",
      "models/gemini-2.0-flash-live-001 ['bidiGenerateContent', 'countTokens']\n"
     ]
    }
   ],
   "source": [
    "for model in genai.list_models():\n",
    "    print(model.name, model.supported_generation_methods)"
   ]
  },
  {
   "cell_type": "code",
   "execution_count": 19,
   "id": "05465a6d-0bdb-4b34-9ebb-c428c3149b66",
   "metadata": {},
   "outputs": [],
   "source": [
    "from langchain_google_genai import ChatGoogleGenerativeAI\n",
    "from langchain.schema import SystemMessage, HumanMessage\n",
    "from langchain.chat_models import ChatOpenAI\n",
    "from langchain.prompts import PromptTemplate\n",
    "from langchain.chains import LLMChain\n",
    "from langchain.memory import ConversationBufferMemory"
   ]
  },
  {
   "cell_type": "code",
   "execution_count": 20,
   "id": "b21650ad-2cc3-4b03-a745-e1da0de0525c",
   "metadata": {},
   "outputs": [],
   "source": [
    "llm = ChatGoogleGenerativeAI(model=\"gemini-1.5-pro-002\", temperature=0, max_output_tokens = 200)\n",
    "\n",
    "prompt = PromptTemplate(\n",
    "    input_variables=[student_info],\n",
    "    template=prompt_template\n",
    ")\n",
    "\n",
    "chain = LLMChain(llm=llm, prompt=prompt)"
   ]
  },
  {
   "cell_type": "code",
   "execution_count": 13,
   "id": "c61c1b8f-727c-41e9-83bb-15e66e77cc01",
   "metadata": {
    "scrolled": true
   },
   "outputs": [
    {
     "name": "stderr",
     "output_type": "stream",
     "text": [
      "C:\\Users\\Admin\\AppData\\Local\\Temp\\ipykernel_23056\\382334114.py:1: LangChainDeprecationWarning: The method `Chain.run` was deprecated in langchain 0.1.0 and will be removed in 1.0. Use :meth:`~invoke` instead.\n",
      "  response = chain.run(student_info)\n"
     ]
    },
    {
     "name": "stdout",
     "output_type": "stream",
     "text": [
      "Pavan D, your semester 5 results demonstrate a solid overall performance. You've achieved a commendable average across your subjects, showcasing your dedication.  Your performance in Data Visualization Lab and Mini Project is particularly impressive, achieving near-perfect scores. This highlights your practical skills and project management abilities.  You also demonstrated strength in Software Engineering and Theory of Computation.\n",
      "\n",
      "While you passed all subjects, there's room for improvement in Computer Networks, Research Methodology and IPR, Environmental Studies, and Data Warehousing. Focusing on strengthening your understanding of the core concepts in these areas would be beneficial.\n",
      "\n",
      "Your 72% attendance is slightly below the recommended 75%.  Regular attendance is crucial for grasping concepts effectively.  Improving your attendance next semester will positively impact your learning and overall performance.\n",
      "\n",
      "Keep up the good work, Pavan! By focusing on the areas mentioned and maintaining consistent effort, you can achieve even greater success in your final year.\n"
     ]
    }
   ],
   "source": [
    "response = chain.run(student_info)\n",
    "print(response)"
   ]
  },
  {
   "cell_type": "code",
   "execution_count": 21,
   "id": "19d680dd-845a-44ee-a3f7-52f8ab62316b",
   "metadata": {},
   "outputs": [
    {
     "data": {
      "text/plain": [
       "NoneType"
      ]
     },
     "execution_count": 21,
     "metadata": {},
     "output_type": "execute_result"
    }
   ],
   "source": [
    "type(chain.memory)"
   ]
  },
  {
   "cell_type": "code",
   "execution_count": null,
   "id": "c588d7f7-7875-4268-964e-807e9aeaa57f",
   "metadata": {},
   "outputs": [],
   "source": []
  },
  {
   "cell_type": "code",
   "execution_count": null,
   "id": "9712d6e8-5290-4264-9c00-0a7777727068",
   "metadata": {},
   "outputs": [],
   "source": []
  },
  {
   "cell_type": "code",
   "execution_count": 23,
   "id": "8e95ad48-b05d-4282-86bd-b3170b934874",
   "metadata": {},
   "outputs": [],
   "source": [
    "from  langchain.memory import ConversationBufferWindowMemory\n",
    "from langchain.chains import ConversationChain\n",
    "\n",
    "memory = ConversationBufferWindowMemory(k=10)\n",
    "\n",
    "convo = ConversationChain(\n",
    "    llm = ChatGoogleGenerativeAI(model=\"gemini-1.5-pro-002\", temperature=0.5),\n",
    "    memory = memory\n",
    ")"
   ]
  },
  {
   "cell_type": "code",
   "execution_count": 24,
   "id": "6615e48e-44b8-46e6-ba78-a3a6758c162c",
   "metadata": {},
   "outputs": [
    {
     "data": {
      "text/plain": [
       "'The current Prime Minister of India is Narendra Modi. He assumed office on May 26, 2014, after the Bharatiya Janata Party (BJP) won the general election.  This is his second term as Prime Minister.  His first term began in 2014 and ended in 2019. He was re-elected in the 2019 general election.  Modi previously served as the Chief Minister of Gujarat from 2001 to 2014.'"
      ]
     },
     "execution_count": 24,
     "metadata": {},
     "output_type": "execute_result"
    }
   ],
   "source": [
    "convo.run(\"Who is Prime Minister of India\")"
   ]
  },
  {
   "cell_type": "code",
   "execution_count": 25,
   "id": "367068fa-2d04-4497-a1b6-eda0d65525f2",
   "metadata": {},
   "outputs": [
    {
     "data": {
      "text/plain": [
       "'The sine of 60 degrees is √3/2, or approximately 0.866.'"
      ]
     },
     "execution_count": 25,
     "metadata": {},
     "output_type": "execute_result"
    }
   ],
   "source": [
    "convo.run(\"What is sin(60 deg)\")"
   ]
  },
  {
   "cell_type": "code",
   "execution_count": 26,
   "id": "51d5279d-cedd-4f05-96ca-9df4614f83a6",
   "metadata": {},
   "outputs": [
    {
     "data": {
      "text/plain": [
       "\"Narendra Modi's current age is 73. He was born on September 17, 1950.\""
      ]
     },
     "execution_count": 26,
     "metadata": {},
     "output_type": "execute_result"
    }
   ],
   "source": [
    "convo.run(\"What is his current age?\")"
   ]
  },
  {
   "cell_type": "code",
   "execution_count": 27,
   "id": "7489dba7-50ba-4782-b064-63721880a9a1",
   "metadata": {},
   "outputs": [
    {
     "name": "stdout",
     "output_type": "stream",
     "text": [
      "Human: Who is Prime Minister of India\n",
      "AI: The current Prime Minister of India is Narendra Modi. He assumed office on May 26, 2014, after the Bharatiya Janata Party (BJP) won the general election.  This is his second term as Prime Minister.  His first term began in 2014 and ended in 2019. He was re-elected in the 2019 general election.  Modi previously served as the Chief Minister of Gujarat from 2001 to 2014.\n",
      "Human: What is sin(60 deg)\n",
      "AI: The sine of 60 degrees is √3/2, or approximately 0.866.\n",
      "Human: What is his current age?\n",
      "AI: Narendra Modi's current age is 73. He was born on September 17, 1950.\n"
     ]
    }
   ],
   "source": [
    "print(convo.memory.buffer)"
   ]
  },
  {
   "cell_type": "code",
   "execution_count": null,
   "id": "12d3576c-4098-459a-bb15-43a5a700412d",
   "metadata": {},
   "outputs": [],
   "source": []
  },
  {
   "cell_type": "code",
   "execution_count": null,
   "id": "b626a568-3aa3-4490-a114-7ee3701b3597",
   "metadata": {},
   "outputs": [],
   "source": []
  },
  {
   "cell_type": "code",
   "execution_count": null,
   "id": "c9f5e67a-231b-423d-8460-8e171b3ac723",
   "metadata": {},
   "outputs": [],
   "source": []
  },
  {
   "cell_type": "markdown",
   "id": "9e5ac711-6449-4102-a97d-9e00622169f9",
   "metadata": {},
   "source": [
    "## Persistent Chatbot"
   ]
  },
  {
   "cell_type": "code",
   "execution_count": 29,
   "id": "71e58b1d-573f-481d-9f7a-3ed4eac0ae9c",
   "metadata": {},
   "outputs": [],
   "source": [
    "from langchain.memory import ConversationBufferMemory\n",
    "from langchain.chains import LLMChain\n",
    "from langchain.prompts import PromptTemplate\n",
    "from langchain_google_genai import ChatGoogleGenerativeAI\n",
    "\n",
    "# Sample student data loaded at session start\n",
    "student_context = {\n",
    "    \"name\": \"Harsha\",\n",
    "    \"sem\": \"5\",\n",
    "    \"attendance\": \"72%\",\n",
    "    \"result_data\": extracted_data\n",
    "}\n",
    "\n",
    "# Define memory and inject student context into it\n",
    "memory = ConversationBufferMemory(\n",
    "    memory_key=\"chat_history\",\n",
    "    return_messages=True,\n",
    "    input_key=\"query\"\n",
    ")\n",
    "\n",
    "# Inject student data at start\n",
    "initial_context = f\"\"\"\n",
    "Student Name: {student_data['name']}\n",
    "Overall Result : {student_data['overall_results']}\n",
    "\"\"\"\n",
    "memory.chat_memory.add_user_message(\"Student data for chatbot context:\")\n",
    "memory.chat_memory.add_ai_message(initial_context)\n",
    "\n",
    "# Define prompt to include chat history\n",
    "template = \"\"\"\n",
    "You are a student assistant bot. Use the following conversation and context to answer questions.\n",
    "\n",
    "{chat_history}\n",
    "\n",
    "Student's query: {query}\n",
    "\"\"\"\n",
    "\n",
    "prompt = PromptTemplate(\n",
    "    input_variables=[\"chat_history\", \"query\"],\n",
    "    template=template\n",
    ")\n",
    "\n",
    "llm = ChatGoogleGenerativeAI(model=\"gemini-1.5-pro\", temperature=0.5)\n",
    "chain = LLMChain(llm=llm, prompt=prompt, memory=memory)"
   ]
  },
  {
   "cell_type": "code",
   "execution_count": 17,
   "id": "9c5dac9b-766d-4314-808e-783fde51c0a8",
   "metadata": {},
   "outputs": [],
   "source": [
    "response = chain.run(\"Calculate my overall percentage considering 1 as credit for all subjects\")"
   ]
  },
  {
   "cell_type": "code",
   "execution_count": 16,
   "id": "fd9fe759-abf7-4c1a-a69d-de113fff05c2",
   "metadata": {},
   "outputs": [
    {
     "data": {
      "text/plain": [
       "\"Harsha K L's academic performance, based on the simple average of total marks (assuming equal credit for all subjects), shows a generally consistent performance with a slight dip in semester 3 followed by an improvement. Here's a semester-wise breakdown:\\n\\n* **Semester 1:**  716/800  (approximately 89.5%)\\n* **Semester 2:**  726/800  (approximately 90.75%)\\n* **Semester 3:**  774/900  (approximately 86%)\\n* **Semester 4:**  786/900  (approximately 87.33%)\\n* **Semester 5:**  775/900  (approximately 86.11%)\\n\\nWhile the overall trend is positive, it's worth noting the slight decline in performance from semester 2 to semester 3 and 5.  However, without knowing the difficulty or weighting of the courses in each semester, it's hard to draw definitive conclusions about the reasons for these fluctuations.  More detailed analysis would require considering the individual subject performances and their respective credit hours.\""
      ]
     },
     "execution_count": 16,
     "metadata": {},
     "output_type": "execute_result"
    }
   ],
   "source": [
    "chain.run(\"How is my academic graph over the semesters?\")"
   ]
  },
  {
   "cell_type": "code",
   "execution_count": 53,
   "id": "b37eed1f-fc70-42f5-88b6-1630e0d723db",
   "metadata": {},
   "outputs": [
    {
     "data": {
      "text/plain": [
       "'Based on the provided data, Harsha K L\\'s best scoring subjects are those where a total score of 100 was achieved.  These are:\\n\\n* **Semester 1:** PHYSICS FOR CSE STREAM\\n* **Semester 3:** DATA STRUCTURES LAB, SOCIAL CONNECT AND RESPONSIBILITY, DATA ANALYTICS WITH EXCEL\\n* **Semester 4:** ANALYSIS & DESIGN OF ALGORITHMS LAB, DISCRETE MATHEMATICAL STRUCTURES, MERN\\n* **Semester 5:** DATA VISUALIZATION LAB, MINI PROJECT, PHYSICAL EDUCATION\\n\\n\\nIt\\'s important to note that some of these perfect scores (like SOCIAL CONNECT AND RESPONSIBILITY, PHYSICAL EDUCATION, and MINI PROJECT) might be due to the nature of the assessment or grading in those particular subjects.  Looking at subjects with high scores achieved through external examinations might provide a different perspective on \"best performance.\"  For example, MATHEMATICS FOR CSE STREAM-I in Semester 1 (98 total) and COMPUTER-AIDED ENGINEERING DRAWING in Semester 2 (98 total) represent strong performances.'"
      ]
     },
     "execution_count": 53,
     "metadata": {},
     "output_type": "execute_result"
    }
   ],
   "source": [
    "chain.run(\"Which are my best scoring subjects?\")"
   ]
  },
  {
   "cell_type": "code",
   "execution_count": 54,
   "id": "5f3df207-ac9b-4002-80b5-9fd81f2700b2",
   "metadata": {},
   "outputs": [
    {
     "data": {
      "text/plain": [
       "\"Harsha K L has demonstrated consistent academic performance across five semesters, maintaining a representative average score of approximately 89.33%.  While there's a slight downward trend in average marks per semester from semester 1 to 5, the variation is minimal, and the overall performance remains commendable.  Harsha has achieved perfect scores in several subjects, particularly in lab-based courses, project work, and subjects like Physical Education and Social Connect and Responsibility.  However, strong performance is also evident in subjects like Mathematics and Computer-Aided Engineering Drawing, where high marks were earned through external examinations.  To improve the academic graph, focusing on consistent effort across all subjects and analyzing the reasons for minor dips in performance in some semesters could be beneficial.  Overall, Harsha's academic record is positive and suggests a good understanding of the coursework.\""
      ]
     },
     "execution_count": 54,
     "metadata": {},
     "output_type": "execute_result"
    }
   ],
   "source": [
    "chain.run(\"Provide me a overall feedback of my academic\")"
   ]
  },
  {
   "cell_type": "code",
   "execution_count": 57,
   "id": "8fe9cddf-4123-4e49-a2b6-135c7adc3921",
   "metadata": {},
   "outputs": [
    {
     "data": {
      "text/plain": [
       "\"```python\\nimport matplotlib.pyplot as plt\\nimport pandas as pd\\n\\n# Option 1: Average Total Marks per Semester\\ndata1 = {'Semester': [1, 2, 3, 4, 5],\\n         'Average Total Marks': [89.25, 91.75, 91.22, 93.11, 89.56]}\\ndf1 = pd.DataFrame(data1)\\n\\nplt.figure(figsize=(8, 6))  # Adjust figure size for better visualization\\nplt.plot(df1['Semester'], df1['Average Total Marks'], marker='o', linestyle='-')\\nplt.title('Average Total Marks per Semester')\\nplt.xlabel('Semester')\\nplt.ylabel('Average Total Marks')\\nplt.xticks(df1['Semester']) # Ensure x-axis ticks are integers\\nplt.grid(True) # Add a grid for better readability\\nplt.show()\\n\\n\\n\\n# Option 2: Total Marks Obtained per Semester\\ndata2 = {'Semester': [1, 2, 3, 4, 5],\\n         'Total Marks Obtained': [714, 734, 821, 838, 716]}\\ndf2 = pd.DataFrame(data2)\\n\\nplt.figure(figsize=(8, 6))\\nplt.plot(df2['Semester'], df2['Total Marks Obtained'], marker='o', linestyle='-')\\nplt.title('Total Marks Obtained per Semester')\\nplt.xlabel('Semester')\\nplt.ylabel('Total Marks Obtained')\\nplt.xticks(df2['Semester'])\\nplt.grid(True)\\nplt.show()\\n\\n\\n\\n# Option 3: Subject-wise Marks per Semester (More complex visualization)\\n# Sample data (replace with your actual subject-wise data)\\ndata3 = {'Semester': [1, 1, 1, 2, 2, 2, 3, 3, 3],\\n         'Subject Code': ['BMATS101', 'BPHYS102', 'BPOPS103', 'BMATS201', 'BCHES202', 'BCEDK203', 'BCS301', 'BCS302', 'BCS303'],\\n         'Subject Name': ['Math', 'Physics', 'Programming', 'Math II', 'Chemistry', 'Engg Drawing', 'CS Math', 'Digital Design', 'Operating Systems'],  # Shortened for display\\n         'Total Marks': [98, 100, 89, 97, 94, 98, 95, 93, 80]} # Example marks\\ndf3 = pd.DataFrame(data3)\\n\\nplt.figure(figsize=(12, 8))  # Larger figure for more subjects\\nimport seaborn as sns\\nsns.barplot(x='Semester', y='Total Marks', hue='Subject Name', data=df3)\\nplt.title('Subject-wise Marks per Semester')\\nplt.xlabel('Semester')\\nplt.ylabel('Total Marks')\\nplt.xticks(rotation=45, ha='right') # Rotate x-axis labels if needed\\nplt.legend(bbox_to_anchor=(1.05, 1), loc='upper left')  # Place legend outside the plot\\nplt.tight_layout() # Adjust layout to prevent labels from overlapping\\nplt.show()\\n\\n\\n```\\n\\n\\n**Explanation and Key Improvements:**\\n\\n* **Libraries:** Imports `matplotlib.pyplot` for plotting and `pandas` for data handling.  Pandas makes it easier to work with structured data.\\n* **DataFrames:** Creates Pandas DataFrames for each option. This is much more efficient for plotting and data manipulation than using separate lists.\\n* **Figure Size:** Sets `figsize` in `plt.figure()` to create appropriately sized plots, especially important for Option 3 with multiple subjects.\\n* **Clearer Plots:** Uses markers ('o') in the line plots (Options 1 & 2) to highlight data points and make the trend easier to see. Adds a grid (`plt.grid(True)`) for better readability.  Ensures x-axis ticks are integers.\\n* **Option 3 Enhancements:**\\n    * Uses `seaborn` library which provides a higher-level interface for creating statistically informative and visually appealing plots.  The `barplot` is well-suited for this type of data.\\n    * Shortens subject names for better display in the legend.\\n    * Rotates x-axis labels (`plt.xticks(rotation=45, ha='right')`) to prevent overlap if subject names are long.\\n    * Moves the legend outside the plot area (`plt.legend(bbox_to_anchor=(1.05, 1), loc='upper left')`) to avoid obscuring the bars.\\n    * Uses `plt.tight_layout()` to automatically adjust subplot parameters for a tight layout. This prevents labels from overlapping.\\n\\n\\n**How to Use:**\\n\\n1. **Install Libraries:** If you don't have them, install `matplotlib`, `pandas`, and `seaborn`:\\n   ```bash\\n   pip install matplotlib pandas seaborn\\n   ```\\n2. **Data:** Replace the sample data in `data3` (Option 3) with your actual subject-wise data.  The format should be the same (Semester, Subject Code, Subject Name, Total Marks).  You can also adapt Options 1 and 2 with your own data.\\n3. **Run the Code:** Copy and paste the Python code into a script (e.g., `plot_grades.py`) and run it from your terminal: `python plot_grades.py`\\n\\n\\nThis improved code will generate more informative and visually appealing graphs to analyze your academic performance.  Remember to choose the plotting option that best suits your needs.\""
      ]
     },
     "execution_count": 57,
     "metadata": {},
     "output_type": "execute_result"
    }
   ],
   "source": [
    "chain.run(\"give me code to plot my overall graph of my academics\")"
   ]
  },
  {
   "cell_type": "code",
   "execution_count": 58,
   "id": "e53906ea-cb1d-4b40-8df9-920752b596d3",
   "metadata": {},
   "outputs": [
    {
     "data": {
      "text/plain": [
       "\"I can't directly generate and display images within this text-based interface.  I provided Python code in a previous response that uses `matplotlib` and `seaborn` to create the graphs. You need to execute that code in a Python environment (like Jupyter Notebook, Google Colab, or a local Python installation) to generate the actual graph images.\\n\\nHere are the basic steps again:\\n\\n1. **Install Libraries:** `pip install matplotlib pandas seaborn`\\n2. **Copy the Code:** Copy the Python code from my previous response.\\n3. **Replace Sample Data (Option 3):** If you're using Option 3 (subject-wise graph), replace the sample data with your actual data.\\n4. **Run the Code:** Save the code as a Python file (e.g., `plot_grades.py`) and run it: `python plot_grades.py`\\n\\nThe graphs will then be displayed in a separate window or within your Python environment.\""
      ]
     },
     "execution_count": 58,
     "metadata": {},
     "output_type": "execute_result"
    }
   ],
   "source": [
    "chain.run(\"Can you generate the graph?\")"
   ]
  },
  {
   "cell_type": "code",
   "execution_count": 18,
   "id": "9ba97837-1da8-4f94-98c1-1670416bf97d",
   "metadata": {},
   "outputs": [
    {
     "data": {
      "text/plain": [
       "\"Harsha K L's overall simple average across all semesters is approximately 92.12%, assuming all subjects have equal weight (1 credit).  This isn't a true weighted average, as it assumes all courses have the same credit hours. To calculate a true weighted average, you would need to provide the actual credit hours for each course.\""
      ]
     },
     "execution_count": 18,
     "metadata": {},
     "output_type": "execute_result"
    }
   ],
   "source": [
    "response"
   ]
  },
  {
   "cell_type": "code",
   "execution_count": 19,
   "id": "ce773108-4b66-4654-8560-c0cb50509cbf",
   "metadata": {},
   "outputs": [
    {
     "name": "stdout",
     "output_type": "stream",
     "text": [
      "Harsha K L's overall simple average across all semesters is approximately 92.12%, assuming all subjects have equal weight (1 credit).\n",
      " This isn't a true weighted average, as it assumes all courses have the same credit hours.\n",
      "To calculate a true weighted average, you would need to provide the actual credit hours for each course.\n"
     ]
    }
   ],
   "source": [
    "# Format function (setup once)\n",
    "def format_response(text):\n",
    "    text = text.strip()\n",
    "    text = text.replace('. ', '.\\n')\n",
    "    text = text.replace('- ', '• ')\n",
    "    return text\n",
    "\n",
    "print(format_response(response))"
   ]
  },
  {
   "cell_type": "code",
   "execution_count": 16,
   "id": "0a8d24cf-b58b-4863-8b81-4486f8bd1c5f",
   "metadata": {},
   "outputs": [
    {
     "data": {
      "text/plain": [
       "langchain.chains.llm.LLMChain"
      ]
     },
     "execution_count": 16,
     "metadata": {},
     "output_type": "execute_result"
    }
   ],
   "source": [
    "type(chain)"
   ]
  },
  {
   "cell_type": "code",
   "execution_count": 21,
   "id": "a81cfc06-3a78-4722-8003-451e609653dc",
   "metadata": {},
   "outputs": [
    {
     "data": {
      "text/plain": [
       "{'name': 'Harsha K L',\n",
       " 'overall_results': [{'sem': 1,\n",
       "   'results': [{'subject_code': 'BMATS101',\n",
       "     'subject_name': 'MATHEMATICS FOR CSE STREAM-I',\n",
       "     'internal': 48,\n",
       "     'external': 50,\n",
       "     'total': 98,\n",
       "     'result': 'P'},\n",
       "    {'subject_code': 'BPHYS102',\n",
       "     'subject_name': 'PHYSICS FOR CSE STREAM',\n",
       "     'internal': 50,\n",
       "     'external': 50,\n",
       "     'total': 100,\n",
       "     'result': 'P'},\n",
       "    {'subject_code': 'BPOPS103',\n",
       "     'subject_name': 'PRINCIPLES OF PROGRAMMING USING C',\n",
       "     'internal': 50,\n",
       "     'external': 39,\n",
       "     'total': 89,\n",
       "     'result': 'P'},\n",
       "    {'subject_code': 'BENGK106',\n",
       "     'subject_name': 'COMMUNICATIVE ENGLISH',\n",
       "     'internal': 45,\n",
       "     'external': 37,\n",
       "     'total': 82,\n",
       "     'result': 'P'},\n",
       "    {'subject_code': 'BICOK107',\n",
       "     'subject_name': 'INDIAN CONSTITUTION',\n",
       "     'internal': 41,\n",
       "     'external': 27,\n",
       "     'total': 68,\n",
       "     'result': 'P'},\n",
       "    {'subject_code': 'BIDTK158',\n",
       "     'subject_name': 'INNOVATION AND DESIGN THINKING',\n",
       "     'internal': 48,\n",
       "     'external': 28,\n",
       "     'total': 76,\n",
       "     'result': 'P'},\n",
       "    {'subject_code': 'BESCK104B',\n",
       "     'subject_name': 'INTRODUCTION TO ELECTRICAL ENGINEERING',\n",
       "     'internal': 50,\n",
       "     'external': 43,\n",
       "     'total': 93,\n",
       "     'result': 'P'},\n",
       "    {'subject_code': 'BETCK105H',\n",
       "     'subject_name': 'INTRODUCTION TO INTERNET OF THINGS (IOT)',\n",
       "     'internal': 49,\n",
       "     'external': 41,\n",
       "     'total': 90,\n",
       "     'result': 'P'}]},\n",
       "  {'sem': 2,\n",
       "   'results': [{'subject_code': 'BMATS201',\n",
       "     'subject_name': 'MATHEMATICS-II FOR CSE STREAM',\n",
       "     'internal': 50,\n",
       "     'external': 47,\n",
       "     'total': 97,\n",
       "     'result': 'P'},\n",
       "    {'subject_code': 'BCHES202',\n",
       "     'subject_name': 'APPLIED CHEMISTRY FOR CSE STREAM',\n",
       "     'internal': 50,\n",
       "     'external': 44,\n",
       "     'total': 94,\n",
       "     'result': 'P'},\n",
       "    {'subject_code': 'BCEDK203',\n",
       "     'subject_name': 'COMPUTER-AIDED ENGINEERING DRAWING',\n",
       "     'internal': 50,\n",
       "     'external': 48,\n",
       "     'total': 98,\n",
       "     'result': 'P'},\n",
       "    {'subject_code': 'BPWSK206',\n",
       "     'subject_name': 'PROFESSIONAL WRITING SKILLS IN ENGLISH',\n",
       "     'internal': 50,\n",
       "     'external': 36,\n",
       "     'total': 86,\n",
       "     'result': 'P'},\n",
       "    {'subject_code': 'BKSKK207',\n",
       "     'subject_name': 'SAMSKRUTIKA KANNADA',\n",
       "     'internal': 50,\n",
       "     'external': 37,\n",
       "     'total': 87,\n",
       "     'result': 'P'},\n",
       "    {'subject_code': 'BSFHK258',\n",
       "     'subject_name': 'SCIENTIFIC FOUNDATIONS OF HEALTH',\n",
       "     'internal': 50,\n",
       "     'external': 43,\n",
       "     'total': 93,\n",
       "     'result': 'P'},\n",
       "    {'subject_code': 'BPLCK205B',\n",
       "     'subject_name': 'INTRODUCTION TO PYTHON PROGRAMMING',\n",
       "     'internal': 50,\n",
       "     'external': 41,\n",
       "     'total': 91,\n",
       "     'result': 'P'},\n",
       "    {'subject_code': 'BESCK204C',\n",
       "     'subject_name': 'INTRODUCTION TO ELECTRONICS COMMUNICATION',\n",
       "     'internal': 50,\n",
       "     'external': 42,\n",
       "     'total': 92,\n",
       "     'result': 'P'}]},\n",
       "  {'sem': 3,\n",
       "   'results': [{'subject_code': 'BCS301',\n",
       "     'subject_name': 'MATHEMATICS FOR COMPUTER SCIENCE',\n",
       "     'internal': 50,\n",
       "     'external': 45,\n",
       "     'total': 95,\n",
       "     'result': 'P'},\n",
       "    {'subject_code': 'BCS302',\n",
       "     'subject_name': 'DIGITAL DESIGN & COMPUTER ORGANIZATION',\n",
       "     'internal': 50,\n",
       "     'external': 43,\n",
       "     'total': 93,\n",
       "     'result': 'P'},\n",
       "    {'subject_code': 'BCS303',\n",
       "     'subject_name': 'OPERATING SYSTEMS',\n",
       "     'internal': 50,\n",
       "     'external': 30,\n",
       "     'total': 80,\n",
       "     'result': 'P'},\n",
       "    {'subject_code': 'BCS304',\n",
       "     'subject_name': 'DATA STRUCTURES AND APPLICATIONS',\n",
       "     'internal': 50,\n",
       "     'external': 32,\n",
       "     'total': 82,\n",
       "     'result': 'P'},\n",
       "    {'subject_code': 'BCSL305',\n",
       "     'subject_name': 'DATA STRUCTURES LAB',\n",
       "     'internal': 50,\n",
       "     'external': 50,\n",
       "     'total': 100,\n",
       "     'result': 'P'},\n",
       "    {'subject_code': 'BSCK307',\n",
       "     'subject_name': 'SOCIAL CONNECT AND RESPONSIBILITY',\n",
       "     'internal': 100,\n",
       "     'external': 0,\n",
       "     'total': 100,\n",
       "     'result': 'P'},\n",
       "    {'subject_code': 'BPEK359',\n",
       "     'subject_name': 'PHYSICAL EDUCATION',\n",
       "     'internal': 95,\n",
       "     'external': 0,\n",
       "     'total': 95,\n",
       "     'result': 'P'},\n",
       "    {'subject_code': 'BCS358A',\n",
       "     'subject_name': 'DATA ANALYTICS WITH EXCEL',\n",
       "     'internal': 50,\n",
       "     'external': 50,\n",
       "     'total': 100,\n",
       "     'result': 'P'},\n",
       "    {'subject_code': 'BCS306A',\n",
       "     'subject_name': 'OBJECT ORIENTED PROGRAMMING WITH JAVA',\n",
       "     'internal': 50,\n",
       "     'external': 34,\n",
       "     'total': 84,\n",
       "     'result': 'P'}]},\n",
       "  {'sem': 4,\n",
       "   'results': [{'subject_code': 'BCS401',\n",
       "     'subject_name': 'ANALYSIS & DESIGN OF ALGORITHMS',\n",
       "     'internal': 50,\n",
       "     'external': 40,\n",
       "     'total': 90,\n",
       "     'result': 'P'},\n",
       "    {'subject_code': 'BCS402',\n",
       "     'subject_name': 'MICROCONTROLLERS',\n",
       "     'internal': 50,\n",
       "     'external': 38,\n",
       "     'total': 88,\n",
       "     'result': 'P'},\n",
       "    {'subject_code': 'BCS403',\n",
       "     'subject_name': 'DATABASE MANAGEMENT SYSTEMS',\n",
       "     'internal': 50,\n",
       "     'external': 38,\n",
       "     'total': 88,\n",
       "     'result': 'P'},\n",
       "    {'subject_code': 'BCSL404',\n",
       "     'subject_name': 'ANALYSIS & DESIGN OF ALGORITHMS LAB',\n",
       "     'internal': 50,\n",
       "     'external': 50,\n",
       "     'total': 100,\n",
       "     'result': 'P'},\n",
       "    {'subject_code': 'BBOC407',\n",
       "     'subject_name': 'BIOLOGY FOR COMPUTER ENGINEERS',\n",
       "     'internal': 50,\n",
       "     'external': 46,\n",
       "     'total': 96,\n",
       "     'result': 'P'},\n",
       "    {'subject_code': 'BUHK408',\n",
       "     'subject_name': 'UNIVERSAL HUMAN VALUES COURSE',\n",
       "     'internal': 50,\n",
       "     'external': 37,\n",
       "     'total': 87,\n",
       "     'result': 'P'},\n",
       "    {'subject_code': 'BPEK459',\n",
       "     'subject_name': 'PHYSICAL EDUCATION',\n",
       "     'internal': 99,\n",
       "     'external': 0,\n",
       "     'total': 99,\n",
       "     'result': 'P'},\n",
       "    {'subject_code': 'BCS405A',\n",
       "     'subject_name': 'DISCRETE MATHEMATICAL STRUCTURES',\n",
       "     'internal': 50,\n",
       "     'external': 50,\n",
       "     'total': 100,\n",
       "     'result': 'P'},\n",
       "    {'subject_code': 'BDSL456C',\n",
       "     'subject_name': 'MERN',\n",
       "     'internal': 50,\n",
       "     'external': 50,\n",
       "     'total': 100,\n",
       "     'result': 'P'}]},\n",
       "  {'sem': 5,\n",
       "   'results': [{'subject_code': 'BCS501',\n",
       "     'subject_name': 'SOFTWARE ENGINEERING AND PROJECT MANAGEMENT',\n",
       "     'internal': 50,\n",
       "     'external': 34,\n",
       "     'total': 84,\n",
       "     'result': 'P'},\n",
       "    {'subject_code': 'BCS502',\n",
       "     'subject_name': 'COMPUTER NETWORKS',\n",
       "     'internal': 50,\n",
       "     'external': 33,\n",
       "     'total': 83,\n",
       "     'result': 'P'},\n",
       "    {'subject_code': 'BCS503',\n",
       "     'subject_name': 'THEORY OF COMPUTATION',\n",
       "     'internal': 50,\n",
       "     'external': 38,\n",
       "     'total': 88,\n",
       "     'result': 'P'},\n",
       "    {'subject_code': 'BCDL504',\n",
       "     'subject_name': 'DATA VISUALIZATION LAB',\n",
       "     'internal': 50,\n",
       "     'external': 50,\n",
       "     'total': 100,\n",
       "     'result': 'P'},\n",
       "    {'subject_code': 'BCD586',\n",
       "     'subject_name': 'MINI PROJECT',\n",
       "     'internal': 100,\n",
       "     'external': 0,\n",
       "     'total': 100,\n",
       "     'result': 'P'},\n",
       "    {'subject_code': 'BRMK557',\n",
       "     'subject_name': 'RESEARCH METHODOLOGY AND IPR',\n",
       "     'internal': 50,\n",
       "     'external': 34,\n",
       "     'total': 84,\n",
       "     'result': 'P'},\n",
       "    {'subject_code': 'BCS508',\n",
       "     'subject_name': 'ENVIRONMENTAL STUDIES AND E- WASTE MANAGEMENT',\n",
       "     'internal': 50,\n",
       "     'external': 35,\n",
       "     'total': 85,\n",
       "     'result': 'P'},\n",
       "    {'subject_code': 'BPEK559',\n",
       "     'subject_name': 'PHYSICAL EDUCATION',\n",
       "     'internal': 100,\n",
       "     'external': 0,\n",
       "     'total': 100,\n",
       "     'result': 'P'},\n",
       "    {'subject_code': 'BAD515B',\n",
       "     'subject_name': 'DATA WAREHOUSING',\n",
       "     'internal': 50,\n",
       "     'external': 35,\n",
       "     'total': 85,\n",
       "     'result': 'P'}]}]}"
      ]
     },
     "execution_count": 21,
     "metadata": {},
     "output_type": "execute_result"
    }
   ],
   "source": [
    "student_data"
   ]
  },
  {
   "cell_type": "code",
   "execution_count": 23,
   "id": "f2c0cf18-12ff-4a2b-8225-4e1376c3e827",
   "metadata": {},
   "outputs": [
    {
     "data": {
      "text/plain": [
       "\"{'name': 'Harsha K L', 'overall_results': [{'sem': 1, 'results': [{'subject_code': 'BMATS101', 'subject_name': 'MATHEMATICS FOR CSE STREAM-I', 'internal': 48, 'external': 50, 'total': 98, 'result': 'P'}, {'subject_code': 'BPHYS102', 'subject_name': 'PHYSICS FOR CSE STREAM', 'internal': 50, 'external': 50, 'total': 100, 'result': 'P'}, {'subject_code': 'BPOPS103', 'subject_name': 'PRINCIPLES OF PROGRAMMING USING C', 'internal': 50, 'external': 39, 'total': 89, 'result': 'P'}, {'subject_code': 'BENGK106', 'subject_name': 'COMMUNICATIVE ENGLISH', 'internal': 45, 'external': 37, 'total': 82, 'result': 'P'}, {'subject_code': 'BICOK107', 'subject_name': 'INDIAN CONSTITUTION', 'internal': 41, 'external': 27, 'total': 68, 'result': 'P'}, {'subject_code': 'BIDTK158', 'subject_name': 'INNOVATION AND DESIGN THINKING', 'internal': 48, 'external': 28, 'total': 76, 'result': 'P'}, {'subject_code': 'BESCK104B', 'subject_name': 'INTRODUCTION TO ELECTRICAL ENGINEERING', 'internal': 50, 'external': 43, 'total': 93, 'result': 'P'}, {'subject_code': 'BETCK105H', 'subject_name': 'INTRODUCTION TO INTERNET OF THINGS (IOT)', 'internal': 49, 'external': 41, 'total': 90, 'result': 'P'}]}, {'sem': 2, 'results': [{'subject_code': 'BMATS201', 'subject_name': 'MATHEMATICS-II FOR CSE STREAM', 'internal': 50, 'external': 47, 'total': 97, 'result': 'P'}, {'subject_code': 'BCHES202', 'subject_name': 'APPLIED CHEMISTRY FOR CSE STREAM', 'internal': 50, 'external': 44, 'total': 94, 'result': 'P'}, {'subject_code': 'BCEDK203', 'subject_name': 'COMPUTER-AIDED ENGINEERING DRAWING', 'internal': 50, 'external': 48, 'total': 98, 'result': 'P'}, {'subject_code': 'BPWSK206', 'subject_name': 'PROFESSIONAL WRITING SKILLS IN ENGLISH', 'internal': 50, 'external': 36, 'total': 86, 'result': 'P'}, {'subject_code': 'BKSKK207', 'subject_name': 'SAMSKRUTIKA KANNADA', 'internal': 50, 'external': 37, 'total': 87, 'result': 'P'}, {'subject_code': 'BSFHK258', 'subject_name': 'SCIENTIFIC FOUNDATIONS OF HEALTH', 'internal': 50, 'external': 43, 'total': 93, 'result': 'P'}, {'subject_code': 'BPLCK205B', 'subject_name': 'INTRODUCTION TO PYTHON PROGRAMMING', 'internal': 50, 'external': 41, 'total': 91, 'result': 'P'}, {'subject_code': 'BESCK204C', 'subject_name': 'INTRODUCTION TO ELECTRONICS COMMUNICATION', 'internal': 50, 'external': 42, 'total': 92, 'result': 'P'}]}, {'sem': 3, 'results': [{'subject_code': 'BCS301', 'subject_name': 'MATHEMATICS FOR COMPUTER SCIENCE', 'internal': 50, 'external': 45, 'total': 95, 'result': 'P'}, {'subject_code': 'BCS302', 'subject_name': 'DIGITAL DESIGN & COMPUTER ORGANIZATION', 'internal': 50, 'external': 43, 'total': 93, 'result': 'P'}, {'subject_code': 'BCS303', 'subject_name': 'OPERATING SYSTEMS', 'internal': 50, 'external': 30, 'total': 80, 'result': 'P'}, {'subject_code': 'BCS304', 'subject_name': 'DATA STRUCTURES AND APPLICATIONS', 'internal': 50, 'external': 32, 'total': 82, 'result': 'P'}, {'subject_code': 'BCSL305', 'subject_name': 'DATA STRUCTURES LAB', 'internal': 50, 'external': 50, 'total': 100, 'result': 'P'}, {'subject_code': 'BSCK307', 'subject_name': 'SOCIAL CONNECT AND RESPONSIBILITY', 'internal': 100, 'external': 0, 'total': 100, 'result': 'P'}, {'subject_code': 'BPEK359', 'subject_name': 'PHYSICAL EDUCATION', 'internal': 95, 'external': 0, 'total': 95, 'result': 'P'}, {'subject_code': 'BCS358A', 'subject_name': 'DATA ANALYTICS WITH EXCEL', 'internal': 50, 'external': 50, 'total': 100, 'result': 'P'}, {'subject_code': 'BCS306A', 'subject_name': 'OBJECT ORIENTED PROGRAMMING WITH JAVA', 'internal': 50, 'external': 34, 'total': 84, 'result': 'P'}]}, {'sem': 4, 'results': [{'subject_code': 'BCS401', 'subject_name': 'ANALYSIS & DESIGN OF ALGORITHMS', 'internal': 50, 'external': 40, 'total': 90, 'result': 'P'}, {'subject_code': 'BCS402', 'subject_name': 'MICROCONTROLLERS', 'internal': 50, 'external': 38, 'total': 88, 'result': 'P'}, {'subject_code': 'BCS403', 'subject_name': 'DATABASE MANAGEMENT SYSTEMS', 'internal': 50, 'external': 38, 'total': 88, 'result': 'P'}, {'subject_code': 'BCSL404', 'subject_name': 'ANALYSIS & DESIGN OF ALGORITHMS LAB', 'internal': 50, 'external': 50, 'total': 100, 'result': 'P'}, {'subject_code': 'BBOC407', 'subject_name': 'BIOLOGY FOR COMPUTER ENGINEERS', 'internal': 50, 'external': 46, 'total': 96, 'result': 'P'}, {'subject_code': 'BUHK408', 'subject_name': 'UNIVERSAL HUMAN VALUES COURSE', 'internal': 50, 'external': 37, 'total': 87, 'result': 'P'}, {'subject_code': 'BPEK459', 'subject_name': 'PHYSICAL EDUCATION', 'internal': 99, 'external': 0, 'total': 99, 'result': 'P'}, {'subject_code': 'BCS405A', 'subject_name': 'DISCRETE MATHEMATICAL STRUCTURES', 'internal': 50, 'external': 50, 'total': 100, 'result': 'P'}, {'subject_code': 'BDSL456C', 'subject_name': 'MERN', 'internal': 50, 'external': 50, 'total': 100, 'result': 'P'}]}, {'sem': 5, 'results': [{'subject_code': 'BCS501', 'subject_name': 'SOFTWARE ENGINEERING AND PROJECT MANAGEMENT', 'internal': 50, 'external': 34, 'total': 84, 'result': 'P'}, {'subject_code': 'BCS502', 'subject_name': 'COMPUTER NETWORKS', 'internal': 50, 'external': 33, 'total': 83, 'result': 'P'}, {'subject_code': 'BCS503', 'subject_name': 'THEORY OF COMPUTATION', 'internal': 50, 'external': 38, 'total': 88, 'result': 'P'}, {'subject_code': 'BCDL504', 'subject_name': 'DATA VISUALIZATION LAB', 'internal': 50, 'external': 50, 'total': 100, 'result': 'P'}, {'subject_code': 'BCD586', 'subject_name': 'MINI PROJECT', 'internal': 100, 'external': 0, 'total': 100, 'result': 'P'}, {'subject_code': 'BRMK557', 'subject_name': 'RESEARCH METHODOLOGY AND IPR', 'internal': 50, 'external': 34, 'total': 84, 'result': 'P'}, {'subject_code': 'BCS508', 'subject_name': 'ENVIRONMENTAL STUDIES AND E- WASTE MANAGEMENT', 'internal': 50, 'external': 35, 'total': 85, 'result': 'P'}, {'subject_code': 'BPEK559', 'subject_name': 'PHYSICAL EDUCATION', 'internal': 100, 'external': 0, 'total': 100, 'result': 'P'}, {'subject_code': 'BAD515B', 'subject_name': 'DATA WAREHOUSING', 'internal': 50, 'external': 35, 'total': 85, 'result': 'P'}]}]}\""
      ]
     },
     "execution_count": 23,
     "metadata": {},
     "output_type": "execute_result"
    }
   ],
   "source": [
    "data = str(student_data)\n",
    "data"
   ]
  },
  {
   "cell_type": "code",
   "execution_count": 24,
   "id": "d0d4f3db-2ed2-4fbc-865b-ed488c7f65d2",
   "metadata": {},
   "outputs": [
    {
     "data": {
      "text/plain": [
       "'{\"name\": \"Harsha K L\", \"overall_results\": [{\"sem\": 1, \"results\": [{\"subject_code\": \"BMATS101\", \"subject_name\": \"MATHEMATICS FOR CSE STREAM-I\", \"internal\": 48, \"external\": 50, \"total\": 98, \"result\": \"P\"}, {\"subject_code\": \"BPHYS102\", \"subject_name\": \"PHYSICS FOR CSE STREAM\", \"internal\": 50, \"external\": 50, \"total\": 100, \"result\": \"P\"}, {\"subject_code\": \"BPOPS103\", \"subject_name\": \"PRINCIPLES OF PROGRAMMING USING C\", \"internal\": 50, \"external\": 39, \"total\": 89, \"result\": \"P\"}, {\"subject_code\": \"BENGK106\", \"subject_name\": \"COMMUNICATIVE ENGLISH\", \"internal\": 45, \"external\": 37, \"total\": 82, \"result\": \"P\"}, {\"subject_code\": \"BICOK107\", \"subject_name\": \"INDIAN CONSTITUTION\", \"internal\": 41, \"external\": 27, \"total\": 68, \"result\": \"P\"}, {\"subject_code\": \"BIDTK158\", \"subject_name\": \"INNOVATION AND DESIGN THINKING\", \"internal\": 48, \"external\": 28, \"total\": 76, \"result\": \"P\"}, {\"subject_code\": \"BESCK104B\", \"subject_name\": \"INTRODUCTION TO ELECTRICAL ENGINEERING\", \"internal\": 50, \"external\": 43, \"total\": 93, \"result\": \"P\"}, {\"subject_code\": \"BETCK105H\", \"subject_name\": \"INTRODUCTION TO INTERNET OF THINGS (IOT)\", \"internal\": 49, \"external\": 41, \"total\": 90, \"result\": \"P\"}]}, {\"sem\": 2, \"results\": [{\"subject_code\": \"BMATS201\", \"subject_name\": \"MATHEMATICS-II FOR CSE STREAM\", \"internal\": 50, \"external\": 47, \"total\": 97, \"result\": \"P\"}, {\"subject_code\": \"BCHES202\", \"subject_name\": \"APPLIED CHEMISTRY FOR CSE STREAM\", \"internal\": 50, \"external\": 44, \"total\": 94, \"result\": \"P\"}, {\"subject_code\": \"BCEDK203\", \"subject_name\": \"COMPUTER-AIDED ENGINEERING DRAWING\", \"internal\": 50, \"external\": 48, \"total\": 98, \"result\": \"P\"}, {\"subject_code\": \"BPWSK206\", \"subject_name\": \"PROFESSIONAL WRITING SKILLS IN ENGLISH\", \"internal\": 50, \"external\": 36, \"total\": 86, \"result\": \"P\"}, {\"subject_code\": \"BKSKK207\", \"subject_name\": \"SAMSKRUTIKA KANNADA\", \"internal\": 50, \"external\": 37, \"total\": 87, \"result\": \"P\"}, {\"subject_code\": \"BSFHK258\", \"subject_name\": \"SCIENTIFIC FOUNDATIONS OF HEALTH\", \"internal\": 50, \"external\": 43, \"total\": 93, \"result\": \"P\"}, {\"subject_code\": \"BPLCK205B\", \"subject_name\": \"INTRODUCTION TO PYTHON PROGRAMMING\", \"internal\": 50, \"external\": 41, \"total\": 91, \"result\": \"P\"}, {\"subject_code\": \"BESCK204C\", \"subject_name\": \"INTRODUCTION TO ELECTRONICS COMMUNICATION\", \"internal\": 50, \"external\": 42, \"total\": 92, \"result\": \"P\"}]}, {\"sem\": 3, \"results\": [{\"subject_code\": \"BCS301\", \"subject_name\": \"MATHEMATICS FOR COMPUTER SCIENCE\", \"internal\": 50, \"external\": 45, \"total\": 95, \"result\": \"P\"}, {\"subject_code\": \"BCS302\", \"subject_name\": \"DIGITAL DESIGN & COMPUTER ORGANIZATION\", \"internal\": 50, \"external\": 43, \"total\": 93, \"result\": \"P\"}, {\"subject_code\": \"BCS303\", \"subject_name\": \"OPERATING SYSTEMS\", \"internal\": 50, \"external\": 30, \"total\": 80, \"result\": \"P\"}, {\"subject_code\": \"BCS304\", \"subject_name\": \"DATA STRUCTURES AND APPLICATIONS\", \"internal\": 50, \"external\": 32, \"total\": 82, \"result\": \"P\"}, {\"subject_code\": \"BCSL305\", \"subject_name\": \"DATA STRUCTURES LAB\", \"internal\": 50, \"external\": 50, \"total\": 100, \"result\": \"P\"}, {\"subject_code\": \"BSCK307\", \"subject_name\": \"SOCIAL CONNECT AND RESPONSIBILITY\", \"internal\": 100, \"external\": 0, \"total\": 100, \"result\": \"P\"}, {\"subject_code\": \"BPEK359\", \"subject_name\": \"PHYSICAL EDUCATION\", \"internal\": 95, \"external\": 0, \"total\": 95, \"result\": \"P\"}, {\"subject_code\": \"BCS358A\", \"subject_name\": \"DATA ANALYTICS WITH EXCEL\", \"internal\": 50, \"external\": 50, \"total\": 100, \"result\": \"P\"}, {\"subject_code\": \"BCS306A\", \"subject_name\": \"OBJECT ORIENTED PROGRAMMING WITH JAVA\", \"internal\": 50, \"external\": 34, \"total\": 84, \"result\": \"P\"}]}, {\"sem\": 4, \"results\": [{\"subject_code\": \"BCS401\", \"subject_name\": \"ANALYSIS & DESIGN OF ALGORITHMS\", \"internal\": 50, \"external\": 40, \"total\": 90, \"result\": \"P\"}, {\"subject_code\": \"BCS402\", \"subject_name\": \"MICROCONTROLLERS\", \"internal\": 50, \"external\": 38, \"total\": 88, \"result\": \"P\"}, {\"subject_code\": \"BCS403\", \"subject_name\": \"DATABASE MANAGEMENT SYSTEMS\", \"internal\": 50, \"external\": 38, \"total\": 88, \"result\": \"P\"}, {\"subject_code\": \"BCSL404\", \"subject_name\": \"ANALYSIS & DESIGN OF ALGORITHMS LAB\", \"internal\": 50, \"external\": 50, \"total\": 100, \"result\": \"P\"}, {\"subject_code\": \"BBOC407\", \"subject_name\": \"BIOLOGY FOR COMPUTER ENGINEERS\", \"internal\": 50, \"external\": 46, \"total\": 96, \"result\": \"P\"}, {\"subject_code\": \"BUHK408\", \"subject_name\": \"UNIVERSAL HUMAN VALUES COURSE\", \"internal\": 50, \"external\": 37, \"total\": 87, \"result\": \"P\"}, {\"subject_code\": \"BPEK459\", \"subject_name\": \"PHYSICAL EDUCATION\", \"internal\": 99, \"external\": 0, \"total\": 99, \"result\": \"P\"}, {\"subject_code\": \"BCS405A\", \"subject_name\": \"DISCRETE MATHEMATICAL STRUCTURES\", \"internal\": 50, \"external\": 50, \"total\": 100, \"result\": \"P\"}, {\"subject_code\": \"BDSL456C\", \"subject_name\": \"MERN\", \"internal\": 50, \"external\": 50, \"total\": 100, \"result\": \"P\"}]}, {\"sem\": 5, \"results\": [{\"subject_code\": \"BCS501\", \"subject_name\": \"SOFTWARE ENGINEERING AND PROJECT MANAGEMENT\", \"internal\": 50, \"external\": 34, \"total\": 84, \"result\": \"P\"}, {\"subject_code\": \"BCS502\", \"subject_name\": \"COMPUTER NETWORKS\", \"internal\": 50, \"external\": 33, \"total\": 83, \"result\": \"P\"}, {\"subject_code\": \"BCS503\", \"subject_name\": \"THEORY OF COMPUTATION\", \"internal\": 50, \"external\": 38, \"total\": 88, \"result\": \"P\"}, {\"subject_code\": \"BCDL504\", \"subject_name\": \"DATA VISUALIZATION LAB\", \"internal\": 50, \"external\": 50, \"total\": 100, \"result\": \"P\"}, {\"subject_code\": \"BCD586\", \"subject_name\": \"MINI PROJECT\", \"internal\": 100, \"external\": 0, \"total\": 100, \"result\": \"P\"}, {\"subject_code\": \"BRMK557\", \"subject_name\": \"RESEARCH METHODOLOGY AND IPR\", \"internal\": 50, \"external\": 34, \"total\": 84, \"result\": \"P\"}, {\"subject_code\": \"BCS508\", \"subject_name\": \"ENVIRONMENTAL STUDIES AND E- WASTE MANAGEMENT\", \"internal\": 50, \"external\": 35, \"total\": 85, \"result\": \"P\"}, {\"subject_code\": \"BPEK559\", \"subject_name\": \"PHYSICAL EDUCATION\", \"internal\": 100, \"external\": 0, \"total\": 100, \"result\": \"P\"}, {\"subject_code\": \"BAD515B\", \"subject_name\": \"DATA WAREHOUSING\", \"internal\": 50, \"external\": 35, \"total\": 85, \"result\": \"P\"}]}]}'"
      ]
     },
     "execution_count": 24,
     "metadata": {},
     "output_type": "execute_result"
    }
   ],
   "source": [
    "data = data.replace('\\'', '\\\"')\n",
    "data"
   ]
  },
  {
   "cell_type": "code",
   "execution_count": 25,
   "id": "af892a03-222d-4a82-83cc-9c0d7c264a7b",
   "metadata": {},
   "outputs": [],
   "source": [
    "import ast"
   ]
  },
  {
   "cell_type": "code",
   "execution_count": 26,
   "id": "98a91df0-fd51-43a7-a67d-4ced6a05aca6",
   "metadata": {},
   "outputs": [
    {
     "data": {
      "text/plain": [
       "{'name': 'Harsha K L',\n",
       " 'overall_results': [{'sem': 1,\n",
       "   'results': [{'subject_code': 'BMATS101',\n",
       "     'subject_name': 'MATHEMATICS FOR CSE STREAM-I',\n",
       "     'internal': 48,\n",
       "     'external': 50,\n",
       "     'total': 98,\n",
       "     'result': 'P'},\n",
       "    {'subject_code': 'BPHYS102',\n",
       "     'subject_name': 'PHYSICS FOR CSE STREAM',\n",
       "     'internal': 50,\n",
       "     'external': 50,\n",
       "     'total': 100,\n",
       "     'result': 'P'},\n",
       "    {'subject_code': 'BPOPS103',\n",
       "     'subject_name': 'PRINCIPLES OF PROGRAMMING USING C',\n",
       "     'internal': 50,\n",
       "     'external': 39,\n",
       "     'total': 89,\n",
       "     'result': 'P'},\n",
       "    {'subject_code': 'BENGK106',\n",
       "     'subject_name': 'COMMUNICATIVE ENGLISH',\n",
       "     'internal': 45,\n",
       "     'external': 37,\n",
       "     'total': 82,\n",
       "     'result': 'P'},\n",
       "    {'subject_code': 'BICOK107',\n",
       "     'subject_name': 'INDIAN CONSTITUTION',\n",
       "     'internal': 41,\n",
       "     'external': 27,\n",
       "     'total': 68,\n",
       "     'result': 'P'},\n",
       "    {'subject_code': 'BIDTK158',\n",
       "     'subject_name': 'INNOVATION AND DESIGN THINKING',\n",
       "     'internal': 48,\n",
       "     'external': 28,\n",
       "     'total': 76,\n",
       "     'result': 'P'},\n",
       "    {'subject_code': 'BESCK104B',\n",
       "     'subject_name': 'INTRODUCTION TO ELECTRICAL ENGINEERING',\n",
       "     'internal': 50,\n",
       "     'external': 43,\n",
       "     'total': 93,\n",
       "     'result': 'P'},\n",
       "    {'subject_code': 'BETCK105H',\n",
       "     'subject_name': 'INTRODUCTION TO INTERNET OF THINGS (IOT)',\n",
       "     'internal': 49,\n",
       "     'external': 41,\n",
       "     'total': 90,\n",
       "     'result': 'P'}]},\n",
       "  {'sem': 2,\n",
       "   'results': [{'subject_code': 'BMATS201',\n",
       "     'subject_name': 'MATHEMATICS-II FOR CSE STREAM',\n",
       "     'internal': 50,\n",
       "     'external': 47,\n",
       "     'total': 97,\n",
       "     'result': 'P'},\n",
       "    {'subject_code': 'BCHES202',\n",
       "     'subject_name': 'APPLIED CHEMISTRY FOR CSE STREAM',\n",
       "     'internal': 50,\n",
       "     'external': 44,\n",
       "     'total': 94,\n",
       "     'result': 'P'},\n",
       "    {'subject_code': 'BCEDK203',\n",
       "     'subject_name': 'COMPUTER-AIDED ENGINEERING DRAWING',\n",
       "     'internal': 50,\n",
       "     'external': 48,\n",
       "     'total': 98,\n",
       "     'result': 'P'},\n",
       "    {'subject_code': 'BPWSK206',\n",
       "     'subject_name': 'PROFESSIONAL WRITING SKILLS IN ENGLISH',\n",
       "     'internal': 50,\n",
       "     'external': 36,\n",
       "     'total': 86,\n",
       "     'result': 'P'},\n",
       "    {'subject_code': 'BKSKK207',\n",
       "     'subject_name': 'SAMSKRUTIKA KANNADA',\n",
       "     'internal': 50,\n",
       "     'external': 37,\n",
       "     'total': 87,\n",
       "     'result': 'P'},\n",
       "    {'subject_code': 'BSFHK258',\n",
       "     'subject_name': 'SCIENTIFIC FOUNDATIONS OF HEALTH',\n",
       "     'internal': 50,\n",
       "     'external': 43,\n",
       "     'total': 93,\n",
       "     'result': 'P'},\n",
       "    {'subject_code': 'BPLCK205B',\n",
       "     'subject_name': 'INTRODUCTION TO PYTHON PROGRAMMING',\n",
       "     'internal': 50,\n",
       "     'external': 41,\n",
       "     'total': 91,\n",
       "     'result': 'P'},\n",
       "    {'subject_code': 'BESCK204C',\n",
       "     'subject_name': 'INTRODUCTION TO ELECTRONICS COMMUNICATION',\n",
       "     'internal': 50,\n",
       "     'external': 42,\n",
       "     'total': 92,\n",
       "     'result': 'P'}]},\n",
       "  {'sem': 3,\n",
       "   'results': [{'subject_code': 'BCS301',\n",
       "     'subject_name': 'MATHEMATICS FOR COMPUTER SCIENCE',\n",
       "     'internal': 50,\n",
       "     'external': 45,\n",
       "     'total': 95,\n",
       "     'result': 'P'},\n",
       "    {'subject_code': 'BCS302',\n",
       "     'subject_name': 'DIGITAL DESIGN & COMPUTER ORGANIZATION',\n",
       "     'internal': 50,\n",
       "     'external': 43,\n",
       "     'total': 93,\n",
       "     'result': 'P'},\n",
       "    {'subject_code': 'BCS303',\n",
       "     'subject_name': 'OPERATING SYSTEMS',\n",
       "     'internal': 50,\n",
       "     'external': 30,\n",
       "     'total': 80,\n",
       "     'result': 'P'},\n",
       "    {'subject_code': 'BCS304',\n",
       "     'subject_name': 'DATA STRUCTURES AND APPLICATIONS',\n",
       "     'internal': 50,\n",
       "     'external': 32,\n",
       "     'total': 82,\n",
       "     'result': 'P'},\n",
       "    {'subject_code': 'BCSL305',\n",
       "     'subject_name': 'DATA STRUCTURES LAB',\n",
       "     'internal': 50,\n",
       "     'external': 50,\n",
       "     'total': 100,\n",
       "     'result': 'P'},\n",
       "    {'subject_code': 'BSCK307',\n",
       "     'subject_name': 'SOCIAL CONNECT AND RESPONSIBILITY',\n",
       "     'internal': 100,\n",
       "     'external': 0,\n",
       "     'total': 100,\n",
       "     'result': 'P'},\n",
       "    {'subject_code': 'BPEK359',\n",
       "     'subject_name': 'PHYSICAL EDUCATION',\n",
       "     'internal': 95,\n",
       "     'external': 0,\n",
       "     'total': 95,\n",
       "     'result': 'P'},\n",
       "    {'subject_code': 'BCS358A',\n",
       "     'subject_name': 'DATA ANALYTICS WITH EXCEL',\n",
       "     'internal': 50,\n",
       "     'external': 50,\n",
       "     'total': 100,\n",
       "     'result': 'P'},\n",
       "    {'subject_code': 'BCS306A',\n",
       "     'subject_name': 'OBJECT ORIENTED PROGRAMMING WITH JAVA',\n",
       "     'internal': 50,\n",
       "     'external': 34,\n",
       "     'total': 84,\n",
       "     'result': 'P'}]},\n",
       "  {'sem': 4,\n",
       "   'results': [{'subject_code': 'BCS401',\n",
       "     'subject_name': 'ANALYSIS & DESIGN OF ALGORITHMS',\n",
       "     'internal': 50,\n",
       "     'external': 40,\n",
       "     'total': 90,\n",
       "     'result': 'P'},\n",
       "    {'subject_code': 'BCS402',\n",
       "     'subject_name': 'MICROCONTROLLERS',\n",
       "     'internal': 50,\n",
       "     'external': 38,\n",
       "     'total': 88,\n",
       "     'result': 'P'},\n",
       "    {'subject_code': 'BCS403',\n",
       "     'subject_name': 'DATABASE MANAGEMENT SYSTEMS',\n",
       "     'internal': 50,\n",
       "     'external': 38,\n",
       "     'total': 88,\n",
       "     'result': 'P'},\n",
       "    {'subject_code': 'BCSL404',\n",
       "     'subject_name': 'ANALYSIS & DESIGN OF ALGORITHMS LAB',\n",
       "     'internal': 50,\n",
       "     'external': 50,\n",
       "     'total': 100,\n",
       "     'result': 'P'},\n",
       "    {'subject_code': 'BBOC407',\n",
       "     'subject_name': 'BIOLOGY FOR COMPUTER ENGINEERS',\n",
       "     'internal': 50,\n",
       "     'external': 46,\n",
       "     'total': 96,\n",
       "     'result': 'P'},\n",
       "    {'subject_code': 'BUHK408',\n",
       "     'subject_name': 'UNIVERSAL HUMAN VALUES COURSE',\n",
       "     'internal': 50,\n",
       "     'external': 37,\n",
       "     'total': 87,\n",
       "     'result': 'P'},\n",
       "    {'subject_code': 'BPEK459',\n",
       "     'subject_name': 'PHYSICAL EDUCATION',\n",
       "     'internal': 99,\n",
       "     'external': 0,\n",
       "     'total': 99,\n",
       "     'result': 'P'},\n",
       "    {'subject_code': 'BCS405A',\n",
       "     'subject_name': 'DISCRETE MATHEMATICAL STRUCTURES',\n",
       "     'internal': 50,\n",
       "     'external': 50,\n",
       "     'total': 100,\n",
       "     'result': 'P'},\n",
       "    {'subject_code': 'BDSL456C',\n",
       "     'subject_name': 'MERN',\n",
       "     'internal': 50,\n",
       "     'external': 50,\n",
       "     'total': 100,\n",
       "     'result': 'P'}]},\n",
       "  {'sem': 5,\n",
       "   'results': [{'subject_code': 'BCS501',\n",
       "     'subject_name': 'SOFTWARE ENGINEERING AND PROJECT MANAGEMENT',\n",
       "     'internal': 50,\n",
       "     'external': 34,\n",
       "     'total': 84,\n",
       "     'result': 'P'},\n",
       "    {'subject_code': 'BCS502',\n",
       "     'subject_name': 'COMPUTER NETWORKS',\n",
       "     'internal': 50,\n",
       "     'external': 33,\n",
       "     'total': 83,\n",
       "     'result': 'P'},\n",
       "    {'subject_code': 'BCS503',\n",
       "     'subject_name': 'THEORY OF COMPUTATION',\n",
       "     'internal': 50,\n",
       "     'external': 38,\n",
       "     'total': 88,\n",
       "     'result': 'P'},\n",
       "    {'subject_code': 'BCDL504',\n",
       "     'subject_name': 'DATA VISUALIZATION LAB',\n",
       "     'internal': 50,\n",
       "     'external': 50,\n",
       "     'total': 100,\n",
       "     'result': 'P'},\n",
       "    {'subject_code': 'BCD586',\n",
       "     'subject_name': 'MINI PROJECT',\n",
       "     'internal': 100,\n",
       "     'external': 0,\n",
       "     'total': 100,\n",
       "     'result': 'P'},\n",
       "    {'subject_code': 'BRMK557',\n",
       "     'subject_name': 'RESEARCH METHODOLOGY AND IPR',\n",
       "     'internal': 50,\n",
       "     'external': 34,\n",
       "     'total': 84,\n",
       "     'result': 'P'},\n",
       "    {'subject_code': 'BCS508',\n",
       "     'subject_name': 'ENVIRONMENTAL STUDIES AND E- WASTE MANAGEMENT',\n",
       "     'internal': 50,\n",
       "     'external': 35,\n",
       "     'total': 85,\n",
       "     'result': 'P'},\n",
       "    {'subject_code': 'BPEK559',\n",
       "     'subject_name': 'PHYSICAL EDUCATION',\n",
       "     'internal': 100,\n",
       "     'external': 0,\n",
       "     'total': 100,\n",
       "     'result': 'P'},\n",
       "    {'subject_code': 'BAD515B',\n",
       "     'subject_name': 'DATA WAREHOUSING',\n",
       "     'internal': 50,\n",
       "     'external': 35,\n",
       "     'total': 85,\n",
       "     'result': 'P'}]}]}"
      ]
     },
     "execution_count": 26,
     "metadata": {},
     "output_type": "execute_result"
    }
   ],
   "source": [
    "data = ast.literal_eval(data)\n",
    "data"
   ]
  },
  {
   "cell_type": "code",
   "execution_count": 33,
   "id": "61217c83-203b-41da-af57-3a4b3528e7f9",
   "metadata": {},
   "outputs": [
    {
     "ename": "KeyError",
     "evalue": "'GOOGLE_APPLICATION_CREDENTIALS'",
     "output_type": "error",
     "traceback": [
      "\u001b[1;31m---------------------------------------------------------------------------\u001b[0m",
      "\u001b[1;31mKeyError\u001b[0m                                  Traceback (most recent call last)",
      "Cell \u001b[1;32mIn[33], line 1\u001b[0m\n\u001b[1;32m----> 1\u001b[0m \u001b[38;5;28mprint\u001b[39m(\u001b[43mos\u001b[49m\u001b[38;5;241;43m.\u001b[39;49m\u001b[43menviron\u001b[49m\u001b[43m[\u001b[49m\u001b[38;5;124;43m\"\u001b[39;49m\u001b[38;5;124;43mGOOGLE_APPLICATION_CREDENTIALS\u001b[39;49m\u001b[38;5;124;43m\"\u001b[39;49m\u001b[43m]\u001b[49m)\n",
      "File \u001b[1;32mD:\\Projects\\EduGenie\\Model\\LangChain\\EduGenie.env\\lib\\os.py:680\u001b[0m, in \u001b[0;36m_Environ.__getitem__\u001b[1;34m(self, key)\u001b[0m\n\u001b[0;32m    677\u001b[0m     value \u001b[38;5;241m=\u001b[39m \u001b[38;5;28mself\u001b[39m\u001b[38;5;241m.\u001b[39m_data[\u001b[38;5;28mself\u001b[39m\u001b[38;5;241m.\u001b[39mencodekey(key)]\n\u001b[0;32m    678\u001b[0m \u001b[38;5;28;01mexcept\u001b[39;00m \u001b[38;5;167;01mKeyError\u001b[39;00m:\n\u001b[0;32m    679\u001b[0m     \u001b[38;5;66;03m# raise KeyError with the original key value\u001b[39;00m\n\u001b[1;32m--> 680\u001b[0m     \u001b[38;5;28;01mraise\u001b[39;00m \u001b[38;5;167;01mKeyError\u001b[39;00m(key) \u001b[38;5;28;01mfrom\u001b[39;00m\u001b[38;5;250m \u001b[39m\u001b[38;5;28;01mNone\u001b[39;00m\n\u001b[0;32m    681\u001b[0m \u001b[38;5;28;01mreturn\u001b[39;00m \u001b[38;5;28mself\u001b[39m\u001b[38;5;241m.\u001b[39mdecodevalue(value)\n",
      "\u001b[1;31mKeyError\u001b[0m: 'GOOGLE_APPLICATION_CREDENTIALS'"
     ]
    }
   ],
   "source": [
    "print(os.environ[\"GOOGLE_APPLICATION_CREDENTIALS\"])"
   ]
  },
  {
   "cell_type": "code",
   "execution_count": 1,
   "id": "ebed0e56-da84-4987-ab60-1828260c508c",
   "metadata": {},
   "outputs": [
    {
     "ename": "NameError",
     "evalue": "name 'chain' is not defined",
     "output_type": "error",
     "traceback": [
      "\u001b[1;31m---------------------------------------------------------------------------\u001b[0m",
      "\u001b[1;31mNameError\u001b[0m                                 Traceback (most recent call last)",
      "Cell \u001b[1;32mIn[1], line 1\u001b[0m\n\u001b[1;32m----> 1\u001b[0m \u001b[43mchain\u001b[49m\u001b[38;5;241m.\u001b[39mmemory\u001b[38;5;241m.\u001b[39mbuffer\n",
      "\u001b[1;31mNameError\u001b[0m: name 'chain' is not defined"
     ]
    }
   ],
   "source": [
    "chain.memory.buffer"
   ]
  },
  {
   "cell_type": "code",
   "execution_count": 14,
   "id": "7fd950cf-8427-4f69-a81c-346dd9b7a290",
   "metadata": {},
   "outputs": [],
   "source": [
    "import requests\n",
    "response = requests.get(\"http://localhost:3000/api/PythonScripts/studentResultsById/1BI22CD015\")"
   ]
  },
  {
   "cell_type": "code",
   "execution_count": 17,
   "id": "ddfb1472-4b7e-4055-a7ff-ece4118484ab",
   "metadata": {},
   "outputs": [
    {
     "data": {
      "text/plain": [
       "{'name': 'Harsha K L',\n",
       " 'overall_results': [{'semester': 1,\n",
       "   'results': [{'subject_code': 'BMATS101',\n",
       "     'subject_name': 'MATHEMATICS FOR CSE STREAM-I',\n",
       "     'internal': 48,\n",
       "     'external': 50,\n",
       "     'total': 98,\n",
       "     'result': 'P'},\n",
       "    {'subject_code': 'BPHYS102',\n",
       "     'subject_name': 'PHYSICS FOR CSE STREAM',\n",
       "     'internal': 50,\n",
       "     'external': 50,\n",
       "     'total': 100,\n",
       "     'result': 'P'},\n",
       "    {'subject_code': 'BPOPS103',\n",
       "     'subject_name': 'PRINCIPLES OF PROGRAMMING USING C',\n",
       "     'internal': 50,\n",
       "     'external': 39,\n",
       "     'total': 89,\n",
       "     'result': 'P'},\n",
       "    {'subject_code': 'BENGK106',\n",
       "     'subject_name': 'COMMUNICATIVE ENGLISH',\n",
       "     'internal': 45,\n",
       "     'external': 37,\n",
       "     'total': 82,\n",
       "     'result': 'P'},\n",
       "    {'subject_code': 'BICOK107',\n",
       "     'subject_name': 'INDIAN CONSTITUTION',\n",
       "     'internal': 41,\n",
       "     'external': 27,\n",
       "     'total': 68,\n",
       "     'result': 'P'},\n",
       "    {'subject_code': 'BIDTK158',\n",
       "     'subject_name': 'INNOVATION AND DESIGN THINKING',\n",
       "     'internal': 48,\n",
       "     'external': 28,\n",
       "     'total': 76,\n",
       "     'result': 'P'},\n",
       "    {'subject_code': 'BESCK104B',\n",
       "     'subject_name': 'INTRODUCTION TO ELECTRICAL ENGINEERING',\n",
       "     'internal': 50,\n",
       "     'external': 43,\n",
       "     'total': 93,\n",
       "     'result': 'P'},\n",
       "    {'subject_code': 'BETCK105H',\n",
       "     'subject_name': 'INTRODUCTION TO INTERNET OF THINGS (IOT)',\n",
       "     'internal': 49,\n",
       "     'external': 41,\n",
       "     'total': 90,\n",
       "     'result': 'P'}]},\n",
       "  {'semester': 2,\n",
       "   'results': [{'subject_code': 'BMATS201',\n",
       "     'subject_name': 'MATHEMATICS-II FOR CSE STREAM',\n",
       "     'internal': 50,\n",
       "     'external': 47,\n",
       "     'total': 97,\n",
       "     'result': 'P'},\n",
       "    {'subject_code': 'BCHES202',\n",
       "     'subject_name': 'APPLIED CHEMISTRY FOR CSE STREAM',\n",
       "     'internal': 50,\n",
       "     'external': 44,\n",
       "     'total': 94,\n",
       "     'result': 'P'},\n",
       "    {'subject_code': 'BCEDK203',\n",
       "     'subject_name': 'COMPUTER-AIDED ENGINEERING DRAWING',\n",
       "     'internal': 50,\n",
       "     'external': 48,\n",
       "     'total': 98,\n",
       "     'result': 'P'},\n",
       "    {'subject_code': 'BPWSK206',\n",
       "     'subject_name': 'PROFESSIONAL WRITING SKILLS IN ENGLISH',\n",
       "     'internal': 50,\n",
       "     'external': 36,\n",
       "     'total': 86,\n",
       "     'result': 'P'},\n",
       "    {'subject_code': 'BKSKK207',\n",
       "     'subject_name': 'SAMSKRUTIKA KANNADA',\n",
       "     'internal': 50,\n",
       "     'external': 37,\n",
       "     'total': 87,\n",
       "     'result': 'P'},\n",
       "    {'subject_code': 'BSFHK258',\n",
       "     'subject_name': 'SCIENTIFIC FOUNDATIONS OF HEALTH',\n",
       "     'internal': 50,\n",
       "     'external': 43,\n",
       "     'total': 93,\n",
       "     'result': 'P'},\n",
       "    {'subject_code': 'BPLCK205B',\n",
       "     'subject_name': 'INTRODUCTION TO PYTHON PROGRAMMING',\n",
       "     'internal': 50,\n",
       "     'external': 41,\n",
       "     'total': 91,\n",
       "     'result': 'P'},\n",
       "    {'subject_code': 'BESCK204C',\n",
       "     'subject_name': 'INTRODUCTION TO ELECTRONICS COMMUNICATION',\n",
       "     'internal': 50,\n",
       "     'external': 42,\n",
       "     'total': 92,\n",
       "     'result': 'P'}]},\n",
       "  {'semester': 3,\n",
       "   'results': [{'subject_code': 'BCS301',\n",
       "     'subject_name': 'MATHEMATICS FOR COMPUTER SCIENCE',\n",
       "     'internal': 50,\n",
       "     'external': 45,\n",
       "     'total': 95,\n",
       "     'result': 'P'},\n",
       "    {'subject_code': 'BCS302',\n",
       "     'subject_name': 'DIGITAL DESIGN & COMPUTER ORGANIZATION',\n",
       "     'internal': 50,\n",
       "     'external': 43,\n",
       "     'total': 93,\n",
       "     'result': 'P'},\n",
       "    {'subject_code': 'BCS303',\n",
       "     'subject_name': 'OPERATING SYSTEMS',\n",
       "     'internal': 50,\n",
       "     'external': 30,\n",
       "     'total': 80,\n",
       "     'result': 'P'},\n",
       "    {'subject_code': 'BCS304',\n",
       "     'subject_name': 'DATA STRUCTURES AND APPLICATIONS',\n",
       "     'internal': 50,\n",
       "     'external': 32,\n",
       "     'total': 82,\n",
       "     'result': 'P'},\n",
       "    {'subject_code': 'BCSL305',\n",
       "     'subject_name': 'DATA STRUCTURES LAB',\n",
       "     'internal': 50,\n",
       "     'external': 50,\n",
       "     'total': 100,\n",
       "     'result': 'P'},\n",
       "    {'subject_code': 'BSCK307',\n",
       "     'subject_name': 'SOCIAL CONNECT AND RESPONSIBILITY',\n",
       "     'internal': 100,\n",
       "     'external': 0,\n",
       "     'total': 100,\n",
       "     'result': 'P'},\n",
       "    {'subject_code': 'BPEK359',\n",
       "     'subject_name': 'PHYSICAL EDUCATION',\n",
       "     'internal': 95,\n",
       "     'external': 0,\n",
       "     'total': 95,\n",
       "     'result': 'P'},\n",
       "    {'subject_code': 'BCS358A',\n",
       "     'subject_name': 'DATA ANALYTICS WITH EXCEL',\n",
       "     'internal': 50,\n",
       "     'external': 50,\n",
       "     'total': 100,\n",
       "     'result': 'P'},\n",
       "    {'subject_code': 'BCS306A',\n",
       "     'subject_name': 'OBJECT ORIENTED PROGRAMMING WITH JAVA',\n",
       "     'internal': 50,\n",
       "     'external': 34,\n",
       "     'total': 84,\n",
       "     'result': 'P'}]},\n",
       "  {'semester': 4,\n",
       "   'results': [{'subject_code': 'BCS401',\n",
       "     'subject_name': 'ANALYSIS & DESIGN OF ALGORITHMS',\n",
       "     'internal': 50,\n",
       "     'external': 40,\n",
       "     'total': 90,\n",
       "     'result': 'P'},\n",
       "    {'subject_code': 'BCS402',\n",
       "     'subject_name': 'MICROCONTROLLERS',\n",
       "     'internal': 50,\n",
       "     'external': 38,\n",
       "     'total': 88,\n",
       "     'result': 'P'},\n",
       "    {'subject_code': 'BCS403',\n",
       "     'subject_name': 'DATABASE MANAGEMENT SYSTEMS',\n",
       "     'internal': 50,\n",
       "     'external': 38,\n",
       "     'total': 88,\n",
       "     'result': 'P'},\n",
       "    {'subject_code': 'BCSL404',\n",
       "     'subject_name': 'ANALYSIS & DESIGN OF ALGORITHMS LAB',\n",
       "     'internal': 50,\n",
       "     'external': 50,\n",
       "     'total': 100,\n",
       "     'result': 'P'},\n",
       "    {'subject_code': 'BBOC407',\n",
       "     'subject_name': 'BIOLOGY FOR COMPUTER ENGINEERS',\n",
       "     'internal': 50,\n",
       "     'external': 46,\n",
       "     'total': 96,\n",
       "     'result': 'P'},\n",
       "    {'subject_code': 'BUHK408',\n",
       "     'subject_name': 'UNIVERSAL HUMAN VALUES COURSE',\n",
       "     'internal': 50,\n",
       "     'external': 37,\n",
       "     'total': 87,\n",
       "     'result': 'P'},\n",
       "    {'subject_code': 'BPEK459',\n",
       "     'subject_name': 'PHYSICAL EDUCATION',\n",
       "     'internal': 99,\n",
       "     'external': 0,\n",
       "     'total': 99,\n",
       "     'result': 'P'},\n",
       "    {'subject_code': 'BCS405A',\n",
       "     'subject_name': 'DISCRETE MATHEMATICAL STRUCTURES',\n",
       "     'internal': 50,\n",
       "     'external': 50,\n",
       "     'total': 100,\n",
       "     'result': 'P'},\n",
       "    {'subject_code': 'BDSL456C',\n",
       "     'subject_name': 'MERN',\n",
       "     'internal': 50,\n",
       "     'external': 50,\n",
       "     'total': 100,\n",
       "     'result': 'P'}]},\n",
       "  {'semester': 5,\n",
       "   'results': [{'subject_code': 'BCS501',\n",
       "     'subject_name': 'SOFTWARE ENGINEERING AND PROJECT MANAGEMENT',\n",
       "     'internal': 50,\n",
       "     'external': 34,\n",
       "     'total': 84,\n",
       "     'result': 'P'},\n",
       "    {'subject_code': 'BCS502',\n",
       "     'subject_name': 'COMPUTER NETWORKS',\n",
       "     'internal': 50,\n",
       "     'external': 33,\n",
       "     'total': 83,\n",
       "     'result': 'P'},\n",
       "    {'subject_code': 'BCS503',\n",
       "     'subject_name': 'THEORY OF COMPUTATION',\n",
       "     'internal': 50,\n",
       "     'external': 38,\n",
       "     'total': 88,\n",
       "     'result': 'P'},\n",
       "    {'subject_code': 'BCDL504',\n",
       "     'subject_name': 'DATA VISUALIZATION LAB',\n",
       "     'internal': 50,\n",
       "     'external': 50,\n",
       "     'total': 100,\n",
       "     'result': 'P'},\n",
       "    {'subject_code': 'BCD586',\n",
       "     'subject_name': 'MINI PROJECT',\n",
       "     'internal': 100,\n",
       "     'external': 0,\n",
       "     'total': 100,\n",
       "     'result': 'P'},\n",
       "    {'subject_code': 'BRMK557',\n",
       "     'subject_name': 'RESEARCH METHODOLOGY AND IPR',\n",
       "     'internal': 50,\n",
       "     'external': 34,\n",
       "     'total': 84,\n",
       "     'result': 'P'},\n",
       "    {'subject_code': 'BCS508',\n",
       "     'subject_name': 'ENVIRONMENTAL STUDIES AND E- WASTE MANAGEMENT',\n",
       "     'internal': 50,\n",
       "     'external': 35,\n",
       "     'total': 85,\n",
       "     'result': 'P'},\n",
       "    {'subject_code': 'BPEK559',\n",
       "     'subject_name': 'PHYSICAL EDUCATION',\n",
       "     'internal': 100,\n",
       "     'external': 0,\n",
       "     'total': 100,\n",
       "     'result': 'P'},\n",
       "    {'subject_code': 'BAD515B',\n",
       "     'subject_name': 'DATA WAREHOUSING',\n",
       "     'internal': 50,\n",
       "     'external': 35,\n",
       "     'total': 85,\n",
       "     'result': 'P'}]}]}"
      ]
     },
     "execution_count": 17,
     "metadata": {},
     "output_type": "execute_result"
    }
   ],
   "source": [
    "response.json()['results']"
   ]
  },
  {
   "cell_type": "code",
   "execution_count": null,
   "id": "d2acc588-6732-4559-9f64-5598ce8827d9",
   "metadata": {},
   "outputs": [],
   "source": []
  }
 ],
 "metadata": {
  "kernelspec": {
   "display_name": "Python 3 (ipykernel)",
   "language": "python",
   "name": "python3"
  },
  "language_info": {
   "codemirror_mode": {
    "name": "ipython",
    "version": 3
   },
   "file_extension": ".py",
   "mimetype": "text/x-python",
   "name": "python",
   "nbconvert_exporter": "python",
   "pygments_lexer": "ipython3",
   "version": "3.10.16"
  }
 },
 "nbformat": 4,
 "nbformat_minor": 5
}
